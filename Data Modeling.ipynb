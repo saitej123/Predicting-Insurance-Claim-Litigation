{
 "cells": [
  {
   "cell_type": "code",
   "execution_count": 1,
   "metadata": {},
   "outputs": [],
   "source": [
    "%run \"Pycode/data_preparation.py\"\n",
    "%run \"Pycode/data_analysis.py\""
   ]
  },
  {
   "cell_type": "code",
   "execution_count": 2,
   "metadata": {},
   "outputs": [],
   "source": [
    "# Load the cleaned dataset and column names\n",
    "master_data, dataCol = data_prep(minTF=10, cap=20)"
   ]
  },
  {
   "cell_type": "code",
   "execution_count": 3,
   "metadata": {},
   "outputs": [],
   "source": [
    "# Set validation split and seed\n",
    "validation_split = 0.2\n",
    "seed = 314\n",
    "\n",
    "# Split data into test set and training set\n",
    "trainData, testData = train_test_split(master_data, validation_split, seed)\n",
    "dataFold = define_fold(trainData)"
   ]
  },
  {
   "cell_type": "markdown",
   "metadata": {},
   "source": [
    "## Resampling Techniques Comparison"
   ]
  },
  {
   "cell_type": "code",
   "execution_count": 5,
   "metadata": {},
   "outputs": [
    {
     "data": {
      "text/html": [
       "<div>\n",
       "<style scoped>\n",
       "    .dataframe tbody tr th:only-of-type {\n",
       "        vertical-align: middle;\n",
       "    }\n",
       "\n",
       "    .dataframe tbody tr th {\n",
       "        vertical-align: top;\n",
       "    }\n",
       "\n",
       "    .dataframe thead th {\n",
       "        text-align: right;\n",
       "    }\n",
       "</style>\n",
       "<table border=\"1\" class=\"dataframe\">\n",
       "  <thead>\n",
       "    <tr style=\"text-align: right;\">\n",
       "      <th></th>\n",
       "      <th>roc_auc</th>\n",
       "      <th>test_accuracy</th>\n",
       "      <th>test_f1</th>\n",
       "      <th>test_precision</th>\n",
       "      <th>test_recall</th>\n",
       "      <th>train_accuracy</th>\n",
       "      <th>train_f1</th>\n",
       "      <th>train_precision</th>\n",
       "      <th>train_recall</th>\n",
       "    </tr>\n",
       "  </thead>\n",
       "  <tbody>\n",
       "    <tr>\n",
       "      <th>None</th>\n",
       "      <td>0.512441</td>\n",
       "      <td>0.866450</td>\n",
       "      <td>0.063927</td>\n",
       "      <td>0.333333</td>\n",
       "      <td>0.035354</td>\n",
       "      <td>0.984097</td>\n",
       "      <td>0.939467</td>\n",
       "      <td>1.000000</td>\n",
       "      <td>0.885845</td>\n",
       "    </tr>\n",
       "    <tr>\n",
       "      <th>Rus</th>\n",
       "      <td>0.505239</td>\n",
       "      <td>0.865147</td>\n",
       "      <td>0.037209</td>\n",
       "      <td>0.235294</td>\n",
       "      <td>0.020202</td>\n",
       "      <td>0.979803</td>\n",
       "      <td>0.921846</td>\n",
       "      <td>1.000000</td>\n",
       "      <td>0.855023</td>\n",
       "    </tr>\n",
       "    <tr>\n",
       "      <th>Ros</th>\n",
       "      <td>0.517584</td>\n",
       "      <td>0.871661</td>\n",
       "      <td>0.075117</td>\n",
       "      <td>0.533333</td>\n",
       "      <td>0.040404</td>\n",
       "      <td>0.981870</td>\n",
       "      <td>0.930488</td>\n",
       "      <td>0.998691</td>\n",
       "      <td>0.871005</td>\n",
       "    </tr>\n",
       "    <tr>\n",
       "      <th>Smote</th>\n",
       "      <td>0.506924</td>\n",
       "      <td>0.860586</td>\n",
       "      <td>0.053097</td>\n",
       "      <td>0.214286</td>\n",
       "      <td>0.030303</td>\n",
       "      <td>0.984097</td>\n",
       "      <td>0.939614</td>\n",
       "      <td>0.997436</td>\n",
       "      <td>0.888128</td>\n",
       "    </tr>\n",
       "    <tr>\n",
       "      <th>Balanced</th>\n",
       "      <td>0.518521</td>\n",
       "      <td>0.865798</td>\n",
       "      <td>0.088496</td>\n",
       "      <td>0.357143</td>\n",
       "      <td>0.050505</td>\n",
       "      <td>0.981234</td>\n",
       "      <td>0.927873</td>\n",
       "      <td>0.998684</td>\n",
       "      <td>0.866438</td>\n",
       "    </tr>\n",
       "  </tbody>\n",
       "</table>\n",
       "</div>"
      ],
      "text/plain": [
       "           roc_auc  test_accuracy   test_f1  test_precision  test_recall  train_accuracy  train_f1  train_precision  train_recall\n",
       "None      0.512441       0.866450  0.063927        0.333333     0.035354        0.984097  0.939467         1.000000      0.885845\n",
       "Rus       0.505239       0.865147  0.037209        0.235294     0.020202        0.979803  0.921846         1.000000      0.855023\n",
       "Ros       0.517584       0.871661  0.075117        0.533333     0.040404        0.981870  0.930488         0.998691      0.871005\n",
       "Smote     0.506924       0.860586  0.053097        0.214286     0.030303        0.984097  0.939614         0.997436      0.888128\n",
       "Balanced  0.518521       0.865798  0.088496        0.357143     0.050505        0.981234  0.927873         0.998684      0.866438"
      ]
     },
     "execution_count": 5,
     "metadata": {},
     "output_type": "execute_result"
    }
   ],
   "source": [
    "# Compare result from different resampling techniques\n",
    "sampling_result = compare_sampling('random_forest', trainData, testData, dataCol)\n",
    "sampling_result"
   ]
  },
  {
   "cell_type": "markdown",
   "metadata": {},
   "source": [
    "## Support Vector Machine"
   ]
  },
  {
   "cell_type": "code",
   "execution_count": 6,
   "metadata": {},
   "outputs": [
    {
     "data": {
      "text/plain": [
       "8"
      ]
     },
     "execution_count": 6,
     "metadata": {},
     "output_type": "execute_result"
    }
   ],
   "source": [
    "# Set up parameter values\n",
    "linearSVC_grid = {\n",
    "    'kernel': ['linear'],\n",
    "    'C': [0.001, 0.01, 0.05, 0.1, 0.2, 0.3, 0.4, 0.5],\n",
    "    'class_weight': ['balanced'],\n",
    "    'probability': [True]\n",
    "}\n",
    "\n",
    "linearSVC_param = list(ParameterGrid(linearSVC_grid))\n",
    "len(linearSVC_param)"
   ]
  },
  {
   "cell_type": "code",
   "execution_count": 7,
   "metadata": {},
   "outputs": [
    {
     "name": "stdout",
     "output_type": "stream",
     "text": [
      "Wall time: 1h 45min 50s\n"
     ]
    }
   ],
   "source": [
    "%%time\n",
    "# Fit the model\n",
    "linearSVC_result = model_cv('support_vector_machine', linearSVC_param, trainData, dataFold, dataCol)"
   ]
  },
  {
   "cell_type": "code",
   "execution_count": 8,
   "metadata": {},
   "outputs": [
    {
     "data": {
      "text/html": [
       "<div>\n",
       "<style scoped>\n",
       "    .dataframe tbody tr th:only-of-type {\n",
       "        vertical-align: middle;\n",
       "    }\n",
       "\n",
       "    .dataframe tbody tr th {\n",
       "        vertical-align: top;\n",
       "    }\n",
       "\n",
       "    .dataframe thead th {\n",
       "        text-align: right;\n",
       "    }\n",
       "</style>\n",
       "<table border=\"1\" class=\"dataframe\">\n",
       "  <thead>\n",
       "    <tr style=\"text-align: right;\">\n",
       "      <th></th>\n",
       "      <th>C</th>\n",
       "      <th>class_weight</th>\n",
       "      <th>kernel</th>\n",
       "      <th>probability</th>\n",
       "      <th>train_accuracy</th>\n",
       "      <th>test_accuracy</th>\n",
       "      <th>train_precision</th>\n",
       "      <th>test_precision</th>\n",
       "      <th>train_recall</th>\n",
       "      <th>test_recall</th>\n",
       "      <th>train_f1</th>\n",
       "      <th>test_f1</th>\n",
       "      <th>roc_auc</th>\n",
       "    </tr>\n",
       "  </thead>\n",
       "  <tbody>\n",
       "    <tr>\n",
       "      <th>1</th>\n",
       "      <td>0.010</td>\n",
       "      <td>balanced</td>\n",
       "      <td>linear</td>\n",
       "      <td>True</td>\n",
       "      <td>0.705667</td>\n",
       "      <td>0.653691</td>\n",
       "      <td>0.289929</td>\n",
       "      <td>0.230578</td>\n",
       "      <td>0.767504</td>\n",
       "      <td>0.638003</td>\n",
       "      <td>0.420695</td>\n",
       "      <td>0.337024</td>\n",
       "      <td>0.647606</td>\n",
       "    </tr>\n",
       "    <tr>\n",
       "      <th>0</th>\n",
       "      <td>0.001</td>\n",
       "      <td>balanced</td>\n",
       "      <td>linear</td>\n",
       "      <td>True</td>\n",
       "      <td>0.618102</td>\n",
       "      <td>0.600029</td>\n",
       "      <td>0.232180</td>\n",
       "      <td>0.214172</td>\n",
       "      <td>0.754646</td>\n",
       "      <td>0.704320</td>\n",
       "      <td>0.355003</td>\n",
       "      <td>0.326871</td>\n",
       "      <td>0.644351</td>\n",
       "    </tr>\n",
       "    <tr>\n",
       "      <th>2</th>\n",
       "      <td>0.050</td>\n",
       "      <td>balanced</td>\n",
       "      <td>linear</td>\n",
       "      <td>True</td>\n",
       "      <td>0.755526</td>\n",
       "      <td>0.673007</td>\n",
       "      <td>0.343931</td>\n",
       "      <td>0.234237</td>\n",
       "      <td>0.830978</td>\n",
       "      <td>0.596105</td>\n",
       "      <td>0.486308</td>\n",
       "      <td>0.334868</td>\n",
       "      <td>0.641117</td>\n",
       "    </tr>\n",
       "    <tr>\n",
       "      <th>3</th>\n",
       "      <td>0.100</td>\n",
       "      <td>balanced</td>\n",
       "      <td>linear</td>\n",
       "      <td>True</td>\n",
       "      <td>0.771034</td>\n",
       "      <td>0.680904</td>\n",
       "      <td>0.363269</td>\n",
       "      <td>0.231839</td>\n",
       "      <td>0.854101</td>\n",
       "      <td>0.562830</td>\n",
       "      <td>0.509527</td>\n",
       "      <td>0.327167</td>\n",
       "      <td>0.631776</td>\n",
       "    </tr>\n",
       "    <tr>\n",
       "      <th>4</th>\n",
       "      <td>0.200</td>\n",
       "      <td>balanced</td>\n",
       "      <td>linear</td>\n",
       "      <td>True</td>\n",
       "      <td>0.788372</td>\n",
       "      <td>0.678041</td>\n",
       "      <td>0.385557</td>\n",
       "      <td>0.219307</td>\n",
       "      <td>0.874243</td>\n",
       "      <td>0.518158</td>\n",
       "      <td>0.534958</td>\n",
       "      <td>0.306788</td>\n",
       "      <td>0.611537</td>\n",
       "    </tr>\n",
       "  </tbody>\n",
       "</table>\n",
       "</div>"
      ],
      "text/plain": [
       "       C class_weight  kernel  probability  train_accuracy  test_accuracy  train_precision  test_precision  train_recall  test_recall  train_f1   test_f1   roc_auc\n",
       "1  0.010     balanced  linear         True        0.705667       0.653691         0.289929        0.230578      0.767504     0.638003  0.420695  0.337024  0.647606\n",
       "0  0.001     balanced  linear         True        0.618102       0.600029         0.232180        0.214172      0.754646     0.704320  0.355003  0.326871  0.644351\n",
       "2  0.050     balanced  linear         True        0.755526       0.673007         0.343931        0.234237      0.830978     0.596105  0.486308  0.334868  0.641117\n",
       "3  0.100     balanced  linear         True        0.771034       0.680904         0.363269        0.231839      0.854101     0.562830  0.509527  0.327167  0.631776\n",
       "4  0.200     balanced  linear         True        0.788372       0.678041         0.385557        0.219307      0.874243     0.518158  0.534958  0.306788  0.611537"
      ]
     },
     "execution_count": 8,
     "metadata": {},
     "output_type": "execute_result"
    }
   ],
   "source": [
    "# Look at the result\n",
    "linearSVC_result.sort_values('roc_auc', ascending=False).head()"
   ]
  },
  {
   "cell_type": "code",
   "execution_count": 9,
   "metadata": {},
   "outputs": [],
   "source": [
    "# Extract the best model\n",
    "linearSVC_best_index = linearSVC_result.sort_values('roc_auc', ascending=False)[:1].index[0]\n",
    "linearSVC_best_param = linearSVC_param[linearSVC_best_index]"
   ]
  },
  {
   "cell_type": "code",
   "execution_count": 10,
   "metadata": {},
   "outputs": [
    {
     "data": {
      "text/plain": [
       "{'C': 0.01,\n",
       " 'class_weight': 'balanced',\n",
       " 'kernel': 'linear',\n",
       " 'probability': True}"
      ]
     },
     "execution_count": 10,
     "metadata": {},
     "output_type": "execute_result"
    }
   ],
   "source": [
    "linearSVC_best_param"
   ]
  },
  {
   "cell_type": "code",
   "execution_count": 11,
   "metadata": {},
   "outputs": [
    {
     "data": {
      "text/plain": [
       "16"
      ]
     },
     "execution_count": 11,
     "metadata": {},
     "output_type": "execute_result"
    }
   ],
   "source": [
    "# Set up parameter values\n",
    "nonlinearSVC_grid = {\n",
    "    'kernel':['rbf'],\n",
    "    'C':[0.1, 1, 10, 100],\n",
    "    'gamma':[0.001, 0.01, 0.1, 0.5],\n",
    "    'class_weight':['balanced'],\n",
    "    'probability':[True]\n",
    "}\n",
    "\n",
    "nonlinearSVC_param = list(ParameterGrid(nonlinearSVC_grid))\n",
    "len(nonlinearSVC_param)"
   ]
  },
  {
   "cell_type": "code",
   "execution_count": 12,
   "metadata": {},
   "outputs": [
    {
     "name": "stdout",
     "output_type": "stream",
     "text": [
      "Wall time: 4h 13min\n"
     ]
    }
   ],
   "source": [
    "%%time\n",
    "# Set up parameter values\n",
    "nonlinearSVC_result = model_cv('support_vector_machine', nonlinearSVC_param, trainData, dataFold, dataCol)"
   ]
  },
  {
   "cell_type": "code",
   "execution_count": 13,
   "metadata": {},
   "outputs": [
    {
     "data": {
      "text/html": [
       "<div>\n",
       "<style scoped>\n",
       "    .dataframe tbody tr th:only-of-type {\n",
       "        vertical-align: middle;\n",
       "    }\n",
       "\n",
       "    .dataframe tbody tr th {\n",
       "        vertical-align: top;\n",
       "    }\n",
       "\n",
       "    .dataframe thead th {\n",
       "        text-align: right;\n",
       "    }\n",
       "</style>\n",
       "<table border=\"1\" class=\"dataframe\">\n",
       "  <thead>\n",
       "    <tr style=\"text-align: right;\">\n",
       "      <th></th>\n",
       "      <th>C</th>\n",
       "      <th>class_weight</th>\n",
       "      <th>gamma</th>\n",
       "      <th>kernel</th>\n",
       "      <th>probability</th>\n",
       "      <th>train_accuracy</th>\n",
       "      <th>test_accuracy</th>\n",
       "      <th>train_precision</th>\n",
       "      <th>test_precision</th>\n",
       "      <th>train_recall</th>\n",
       "      <th>test_recall</th>\n",
       "      <th>train_f1</th>\n",
       "      <th>test_f1</th>\n",
       "      <th>roc_auc</th>\n",
       "    </tr>\n",
       "  </thead>\n",
       "  <tbody>\n",
       "    <tr>\n",
       "      <th>1</th>\n",
       "      <td>0.1</td>\n",
       "      <td>balanced</td>\n",
       "      <td>0.010</td>\n",
       "      <td>rbf</td>\n",
       "      <td>True</td>\n",
       "      <td>0.655046</td>\n",
       "      <td>0.630687</td>\n",
       "      <td>0.250667</td>\n",
       "      <td>0.225837</td>\n",
       "      <td>0.741979</td>\n",
       "      <td>0.683199</td>\n",
       "      <td>0.374627</td>\n",
       "      <td>0.337650</td>\n",
       "      <td>0.653349</td>\n",
       "    </tr>\n",
       "    <tr>\n",
       "      <th>4</th>\n",
       "      <td>1.0</td>\n",
       "      <td>balanced</td>\n",
       "      <td>0.001</td>\n",
       "      <td>rbf</td>\n",
       "      <td>True</td>\n",
       "      <td>0.654971</td>\n",
       "      <td>0.630036</td>\n",
       "      <td>0.250372</td>\n",
       "      <td>0.224951</td>\n",
       "      <td>0.740846</td>\n",
       "      <td>0.680117</td>\n",
       "      <td>0.374196</td>\n",
       "      <td>0.336190</td>\n",
       "      <td>0.651727</td>\n",
       "    </tr>\n",
       "    <tr>\n",
       "      <th>5</th>\n",
       "      <td>1.0</td>\n",
       "      <td>balanced</td>\n",
       "      <td>0.010</td>\n",
       "      <td>rbf</td>\n",
       "      <td>True</td>\n",
       "      <td>0.745282</td>\n",
       "      <td>0.679132</td>\n",
       "      <td>0.330773</td>\n",
       "      <td>0.240530</td>\n",
       "      <td>0.809395</td>\n",
       "      <td>0.606773</td>\n",
       "      <td>0.469485</td>\n",
       "      <td>0.342960</td>\n",
       "      <td>0.649193</td>\n",
       "    </tr>\n",
       "    <tr>\n",
       "      <th>8</th>\n",
       "      <td>10.0</td>\n",
       "      <td>balanced</td>\n",
       "      <td>0.001</td>\n",
       "      <td>rbf</td>\n",
       "      <td>True</td>\n",
       "      <td>0.731040</td>\n",
       "      <td>0.668041</td>\n",
       "      <td>0.316522</td>\n",
       "      <td>0.234822</td>\n",
       "      <td>0.802666</td>\n",
       "      <td>0.616280</td>\n",
       "      <td>0.453846</td>\n",
       "      <td>0.338706</td>\n",
       "      <td>0.646724</td>\n",
       "    </tr>\n",
       "    <tr>\n",
       "      <th>2</th>\n",
       "      <td>0.1</td>\n",
       "      <td>balanced</td>\n",
       "      <td>0.100</td>\n",
       "      <td>rbf</td>\n",
       "      <td>True</td>\n",
       "      <td>0.804884</td>\n",
       "      <td>0.733155</td>\n",
       "      <td>0.399344</td>\n",
       "      <td>0.258227</td>\n",
       "      <td>0.782051</td>\n",
       "      <td>0.485290</td>\n",
       "      <td>0.527640</td>\n",
       "      <td>0.335776</td>\n",
       "      <td>0.629106</td>\n",
       "    </tr>\n",
       "  </tbody>\n",
       "</table>\n",
       "</div>"
      ],
      "text/plain": [
       "      C class_weight  gamma kernel  probability  train_accuracy  test_accuracy  train_precision  test_precision  train_recall  test_recall  train_f1   test_f1   roc_auc\n",
       "1   0.1     balanced  0.010    rbf         True        0.655046       0.630687         0.250667        0.225837      0.741979     0.683199  0.374627  0.337650  0.653349\n",
       "4   1.0     balanced  0.001    rbf         True        0.654971       0.630036         0.250372        0.224951      0.740846     0.680117  0.374196  0.336190  0.651727\n",
       "5   1.0     balanced  0.010    rbf         True        0.745282       0.679132         0.330773        0.240530      0.809395     0.606773  0.469485  0.342960  0.649193\n",
       "8  10.0     balanced  0.001    rbf         True        0.731040       0.668041         0.316522        0.234822      0.802666     0.616280  0.453846  0.338706  0.646724\n",
       "2   0.1     balanced  0.100    rbf         True        0.804884       0.733155         0.399344        0.258227      0.782051     0.485290  0.527640  0.335776  0.629106"
      ]
     },
     "execution_count": 13,
     "metadata": {},
     "output_type": "execute_result"
    }
   ],
   "source": [
    "# Look at the result\n",
    "nonlinearSVC_result.sort_values('roc_auc', ascending=False).head()"
   ]
  },
  {
   "cell_type": "code",
   "execution_count": 14,
   "metadata": {},
   "outputs": [],
   "source": [
    "# Extract the best model\n",
    "nonlinearSVC_best_index = nonlinearSVC_result.sort_values('roc_auc', ascending=False)[:1].index[0]\n",
    "nonlinearSVC_best_param = nonlinearSVC_param[nonlinearSVC_best_index]"
   ]
  },
  {
   "cell_type": "code",
   "execution_count": 15,
   "metadata": {},
   "outputs": [
    {
     "data": {
      "text/plain": [
       "{'C': 0.1,\n",
       " 'class_weight': 'balanced',\n",
       " 'gamma': 0.01,\n",
       " 'kernel': 'rbf',\n",
       " 'probability': True}"
      ]
     },
     "execution_count": 15,
     "metadata": {},
     "output_type": "execute_result"
    }
   ],
   "source": [
    "nonlinearSVC_best_param"
   ]
  },
  {
   "cell_type": "markdown",
   "metadata": {},
   "source": [
    "## Naive Bayes"
   ]
  },
  {
   "cell_type": "code",
   "execution_count": 16,
   "metadata": {},
   "outputs": [
    {
     "data": {
      "text/plain": [
       "151"
      ]
     },
     "execution_count": 16,
     "metadata": {},
     "output_type": "execute_result"
    }
   ],
   "source": [
    "# Set up parameter values\n",
    "gaussianNB_grid = {\n",
    "    'var_smoothing': np.arange(0,0.151,0.001)\n",
    "}\n",
    "\n",
    "gaussianNB_param = list(ParameterGrid(gaussianNB_grid))\n",
    "len(gaussianNB_param)"
   ]
  },
  {
   "cell_type": "code",
   "execution_count": 17,
   "metadata": {},
   "outputs": [
    {
     "name": "stdout",
     "output_type": "stream",
     "text": [
      "Wall time: 13min 57s\n"
     ]
    }
   ],
   "source": [
    "%%time\n",
    "# Set up parameter values\n",
    "gaussianNB_result = model_cv('gaussian_naive_bayes', gaussianNB_param, trainData, dataFold, dataCol)"
   ]
  },
  {
   "cell_type": "code",
   "execution_count": 18,
   "metadata": {},
   "outputs": [
    {
     "data": {
      "text/html": [
       "<div>\n",
       "<style scoped>\n",
       "    .dataframe tbody tr th:only-of-type {\n",
       "        vertical-align: middle;\n",
       "    }\n",
       "\n",
       "    .dataframe tbody tr th {\n",
       "        vertical-align: top;\n",
       "    }\n",
       "\n",
       "    .dataframe thead th {\n",
       "        text-align: right;\n",
       "    }\n",
       "</style>\n",
       "<table border=\"1\" class=\"dataframe\">\n",
       "  <thead>\n",
       "    <tr style=\"text-align: right;\">\n",
       "      <th></th>\n",
       "      <th>var_smoothing</th>\n",
       "      <th>train_accuracy</th>\n",
       "      <th>test_accuracy</th>\n",
       "      <th>train_precision</th>\n",
       "      <th>test_precision</th>\n",
       "      <th>train_recall</th>\n",
       "      <th>test_recall</th>\n",
       "      <th>train_f1</th>\n",
       "      <th>test_f1</th>\n",
       "      <th>roc_auc</th>\n",
       "    </tr>\n",
       "  </thead>\n",
       "  <tbody>\n",
       "    <tr>\n",
       "      <th>148</th>\n",
       "      <td>0.148</td>\n",
       "      <td>0.456687</td>\n",
       "      <td>0.416413</td>\n",
       "      <td>0.194555</td>\n",
       "      <td>0.169617</td>\n",
       "      <td>0.922599</td>\n",
       "      <td>0.81141</td>\n",
       "      <td>0.321253</td>\n",
       "      <td>0.279308</td>\n",
       "      <td>0.582522</td>\n",
       "    </tr>\n",
       "    <tr>\n",
       "      <th>150</th>\n",
       "      <td>0.150</td>\n",
       "      <td>0.456608</td>\n",
       "      <td>0.416254</td>\n",
       "      <td>0.194536</td>\n",
       "      <td>0.169589</td>\n",
       "      <td>0.922599</td>\n",
       "      <td>0.81141</td>\n",
       "      <td>0.321226</td>\n",
       "      <td>0.279266</td>\n",
       "      <td>0.582433</td>\n",
       "    </tr>\n",
       "    <tr>\n",
       "      <th>149</th>\n",
       "      <td>0.149</td>\n",
       "      <td>0.456647</td>\n",
       "      <td>0.416254</td>\n",
       "      <td>0.194546</td>\n",
       "      <td>0.169589</td>\n",
       "      <td>0.922599</td>\n",
       "      <td>0.81141</td>\n",
       "      <td>0.321240</td>\n",
       "      <td>0.279266</td>\n",
       "      <td>0.582433</td>\n",
       "    </tr>\n",
       "    <tr>\n",
       "      <th>147</th>\n",
       "      <td>0.147</td>\n",
       "      <td>0.456726</td>\n",
       "      <td>0.416095</td>\n",
       "      <td>0.194642</td>\n",
       "      <td>0.169526</td>\n",
       "      <td>0.923167</td>\n",
       "      <td>0.81141</td>\n",
       "      <td>0.321406</td>\n",
       "      <td>0.279186</td>\n",
       "      <td>0.582337</td>\n",
       "    </tr>\n",
       "    <tr>\n",
       "      <th>137</th>\n",
       "      <td>0.137</td>\n",
       "      <td>0.456447</td>\n",
       "      <td>0.416095</td>\n",
       "      <td>0.194515</td>\n",
       "      <td>0.169410</td>\n",
       "      <td>0.922881</td>\n",
       "      <td>0.81141</td>\n",
       "      <td>0.321217</td>\n",
       "      <td>0.279073</td>\n",
       "      <td>0.582311</td>\n",
       "    </tr>\n",
       "  </tbody>\n",
       "</table>\n",
       "</div>"
      ],
      "text/plain": [
       "     var_smoothing  train_accuracy  test_accuracy  train_precision  test_precision  train_recall  test_recall  train_f1   test_f1   roc_auc\n",
       "148          0.148        0.456687       0.416413         0.194555        0.169617      0.922599      0.81141  0.321253  0.279308  0.582522\n",
       "150          0.150        0.456608       0.416254         0.194536        0.169589      0.922599      0.81141  0.321226  0.279266  0.582433\n",
       "149          0.149        0.456647       0.416254         0.194546        0.169589      0.922599      0.81141  0.321240  0.279266  0.582433\n",
       "147          0.147        0.456726       0.416095         0.194642        0.169526      0.923167      0.81141  0.321406  0.279186  0.582337\n",
       "137          0.137        0.456447       0.416095         0.194515        0.169410      0.922881      0.81141  0.321217  0.279073  0.582311"
      ]
     },
     "execution_count": 18,
     "metadata": {},
     "output_type": "execute_result"
    }
   ],
   "source": [
    "# Look at the result\n",
    "gaussianNB_result.sort_values('roc_auc', ascending=False).head()"
   ]
  },
  {
   "cell_type": "code",
   "execution_count": 19,
   "metadata": {},
   "outputs": [],
   "source": [
    "# Extract the best model\n",
    "gaussianNB_best_index = gaussianNB_result.sort_values('roc_auc', ascending=False)[:1].index[0]\n",
    "gaussianNB_best_param = gaussianNB_param[gaussianNB_best_index]"
   ]
  },
  {
   "cell_type": "code",
   "execution_count": 20,
   "metadata": {},
   "outputs": [
    {
     "data": {
      "text/plain": [
       "{'var_smoothing': 0.148}"
      ]
     },
     "execution_count": 20,
     "metadata": {},
     "output_type": "execute_result"
    }
   ],
   "source": [
    "gaussianNB_best_param"
   ]
  },
  {
   "cell_type": "code",
   "execution_count": 21,
   "metadata": {},
   "outputs": [
    {
     "data": {
      "text/plain": [
       "200"
      ]
     },
     "execution_count": 21,
     "metadata": {},
     "output_type": "execute_result"
    }
   ],
   "source": [
    "# Set up parameter values\n",
    "complementNB_grid = {\n",
    "    'alpha': np.arange(0.001, 0.5, 0.005), \n",
    "    'norm':[False, True]\n",
    "}\n",
    "\n",
    "complementNB_param = list(ParameterGrid(complementNB_grid))\n",
    "len(complementNB_param)"
   ]
  },
  {
   "cell_type": "code",
   "execution_count": 22,
   "metadata": {},
   "outputs": [
    {
     "name": "stdout",
     "output_type": "stream",
     "text": [
      "Wall time: 13min 46s\n"
     ]
    }
   ],
   "source": [
    "%%time\n",
    "# Set up parameter values\n",
    "complementNB_result = model_cv('complement_naive_bayes', complementNB_param, trainData, dataFold, dataCol)"
   ]
  },
  {
   "cell_type": "code",
   "execution_count": 23,
   "metadata": {},
   "outputs": [
    {
     "data": {
      "text/html": [
       "<div>\n",
       "<style scoped>\n",
       "    .dataframe tbody tr th:only-of-type {\n",
       "        vertical-align: middle;\n",
       "    }\n",
       "\n",
       "    .dataframe tbody tr th {\n",
       "        vertical-align: top;\n",
       "    }\n",
       "\n",
       "    .dataframe thead th {\n",
       "        text-align: right;\n",
       "    }\n",
       "</style>\n",
       "<table border=\"1\" class=\"dataframe\">\n",
       "  <thead>\n",
       "    <tr style=\"text-align: right;\">\n",
       "      <th></th>\n",
       "      <th>alpha</th>\n",
       "      <th>norm</th>\n",
       "      <th>train_accuracy</th>\n",
       "      <th>test_accuracy</th>\n",
       "      <th>train_precision</th>\n",
       "      <th>test_precision</th>\n",
       "      <th>train_recall</th>\n",
       "      <th>test_recall</th>\n",
       "      <th>train_f1</th>\n",
       "      <th>test_f1</th>\n",
       "      <th>roc_auc</th>\n",
       "    </tr>\n",
       "  </thead>\n",
       "  <tbody>\n",
       "    <tr>\n",
       "      <th>170</th>\n",
       "      <td>0.426</td>\n",
       "      <td>False</td>\n",
       "      <td>0.696446</td>\n",
       "      <td>0.620829</td>\n",
       "      <td>0.291082</td>\n",
       "      <td>0.212778</td>\n",
       "      <td>0.819675</td>\n",
       "      <td>0.635942</td>\n",
       "      <td>0.429349</td>\n",
       "      <td>0.317361</td>\n",
       "      <td>0.627339</td>\n",
       "    </tr>\n",
       "    <tr>\n",
       "      <th>172</th>\n",
       "      <td>0.431</td>\n",
       "      <td>False</td>\n",
       "      <td>0.696525</td>\n",
       "      <td>0.620501</td>\n",
       "      <td>0.291093</td>\n",
       "      <td>0.212675</td>\n",
       "      <td>0.819372</td>\n",
       "      <td>0.635942</td>\n",
       "      <td>0.429324</td>\n",
       "      <td>0.317228</td>\n",
       "      <td>0.627153</td>\n",
       "    </tr>\n",
       "    <tr>\n",
       "      <th>198</th>\n",
       "      <td>0.496</td>\n",
       "      <td>False</td>\n",
       "      <td>0.697321</td>\n",
       "      <td>0.618903</td>\n",
       "      <td>0.291296</td>\n",
       "      <td>0.212216</td>\n",
       "      <td>0.816760</td>\n",
       "      <td>0.636213</td>\n",
       "      <td>0.429194</td>\n",
       "      <td>0.316767</td>\n",
       "      <td>0.626278</td>\n",
       "    </tr>\n",
       "    <tr>\n",
       "      <th>176</th>\n",
       "      <td>0.441</td>\n",
       "      <td>False</td>\n",
       "      <td>0.696524</td>\n",
       "      <td>0.619719</td>\n",
       "      <td>0.291097</td>\n",
       "      <td>0.211980</td>\n",
       "      <td>0.819352</td>\n",
       "      <td>0.634493</td>\n",
       "      <td>0.429326</td>\n",
       "      <td>0.316319</td>\n",
       "      <td>0.626058</td>\n",
       "    </tr>\n",
       "    <tr>\n",
       "      <th>174</th>\n",
       "      <td>0.436</td>\n",
       "      <td>False</td>\n",
       "      <td>0.696525</td>\n",
       "      <td>0.620026</td>\n",
       "      <td>0.291048</td>\n",
       "      <td>0.211976</td>\n",
       "      <td>0.819070</td>\n",
       "      <td>0.633376</td>\n",
       "      <td>0.429237</td>\n",
       "      <td>0.316142</td>\n",
       "      <td>0.625780</td>\n",
       "    </tr>\n",
       "  </tbody>\n",
       "</table>\n",
       "</div>"
      ],
      "text/plain": [
       "     alpha   norm  train_accuracy  test_accuracy  train_precision  test_precision  train_recall  test_recall  train_f1   test_f1   roc_auc\n",
       "170  0.426  False        0.696446       0.620829         0.291082        0.212778      0.819675     0.635942  0.429349  0.317361  0.627339\n",
       "172  0.431  False        0.696525       0.620501         0.291093        0.212675      0.819372     0.635942  0.429324  0.317228  0.627153\n",
       "198  0.496  False        0.697321       0.618903         0.291296        0.212216      0.816760     0.636213  0.429194  0.316767  0.626278\n",
       "176  0.441  False        0.696524       0.619719         0.291097        0.211980      0.819352     0.634493  0.429326  0.316319  0.626058\n",
       "174  0.436  False        0.696525       0.620026         0.291048        0.211976      0.819070     0.633376  0.429237  0.316142  0.625780"
      ]
     },
     "execution_count": 23,
     "metadata": {},
     "output_type": "execute_result"
    }
   ],
   "source": [
    "# Look at the result\n",
    "complementNB_result.sort_values('roc_auc', ascending=False).head()"
   ]
  },
  {
   "cell_type": "code",
   "execution_count": 24,
   "metadata": {},
   "outputs": [],
   "source": [
    "# Extract the best model\n",
    "complementNB_best_index = complementNB_result.sort_values('roc_auc', ascending=False)[:1].index[0]\n",
    "complementNB_best_param = complementNB_param[complementNB_best_index]"
   ]
  },
  {
   "cell_type": "code",
   "execution_count": 25,
   "metadata": {},
   "outputs": [
    {
     "data": {
      "text/plain": [
       "{'alpha': 0.426, 'norm': False}"
      ]
     },
     "execution_count": 25,
     "metadata": {},
     "output_type": "execute_result"
    }
   ],
   "source": [
    "complementNB_best_param"
   ]
  },
  {
   "cell_type": "markdown",
   "metadata": {},
   "source": [
    "## Logistic Regression"
   ]
  },
  {
   "cell_type": "code",
   "execution_count": 26,
   "metadata": {},
   "outputs": [
    {
     "data": {
      "text/plain": [
       "42"
      ]
     },
     "execution_count": 26,
     "metadata": {},
     "output_type": "execute_result"
    }
   ],
   "source": [
    "# Set up parameter values\n",
    "lasso_grid = {\n",
    "    'penalty': ['l1'],\n",
    "    'C': np.arange(0.01,1.02,0.05),\n",
    "    'class_weight': ['balanced'],\n",
    "    'solver': ['liblinear','saga']\n",
    "}\n",
    "\n",
    "lasso_param = list(ParameterGrid(lasso_grid))\n",
    "len(lasso_param)"
   ]
  },
  {
   "cell_type": "code",
   "execution_count": 27,
   "metadata": {},
   "outputs": [
    {
     "name": "stdout",
     "output_type": "stream",
     "text": [
      "Wall time: 16min 56s\n"
     ]
    }
   ],
   "source": [
    "%%time\n",
    "# Set up parameter values\n",
    "lasso_result = model_cv('logistic_regression', lasso_param, trainData, dataFold, dataCol)"
   ]
  },
  {
   "cell_type": "code",
   "execution_count": 28,
   "metadata": {},
   "outputs": [
    {
     "data": {
      "text/html": [
       "<div>\n",
       "<style scoped>\n",
       "    .dataframe tbody tr th:only-of-type {\n",
       "        vertical-align: middle;\n",
       "    }\n",
       "\n",
       "    .dataframe tbody tr th {\n",
       "        vertical-align: top;\n",
       "    }\n",
       "\n",
       "    .dataframe thead th {\n",
       "        text-align: right;\n",
       "    }\n",
       "</style>\n",
       "<table border=\"1\" class=\"dataframe\">\n",
       "  <thead>\n",
       "    <tr style=\"text-align: right;\">\n",
       "      <th></th>\n",
       "      <th>C</th>\n",
       "      <th>class_weight</th>\n",
       "      <th>penalty</th>\n",
       "      <th>solver</th>\n",
       "      <th>train_accuracy</th>\n",
       "      <th>test_accuracy</th>\n",
       "      <th>train_precision</th>\n",
       "      <th>test_precision</th>\n",
       "      <th>train_recall</th>\n",
       "      <th>test_recall</th>\n",
       "      <th>train_f1</th>\n",
       "      <th>test_f1</th>\n",
       "      <th>roc_auc</th>\n",
       "    </tr>\n",
       "  </thead>\n",
       "  <tbody>\n",
       "    <tr>\n",
       "      <th>8</th>\n",
       "      <td>0.21</td>\n",
       "      <td>balanced</td>\n",
       "      <td>l1</td>\n",
       "      <td>liblinear</td>\n",
       "      <td>0.733832</td>\n",
       "      <td>0.674683</td>\n",
       "      <td>0.313120</td>\n",
       "      <td>0.239119</td>\n",
       "      <td>0.763248</td>\n",
       "      <td>0.615258</td>\n",
       "      <td>0.443950</td>\n",
       "      <td>0.342589</td>\n",
       "      <td>0.650318</td>\n",
       "    </tr>\n",
       "    <tr>\n",
       "      <th>7</th>\n",
       "      <td>0.16</td>\n",
       "      <td>balanced</td>\n",
       "      <td>l1</td>\n",
       "      <td>saga</td>\n",
       "      <td>0.714423</td>\n",
       "      <td>0.667395</td>\n",
       "      <td>0.293838</td>\n",
       "      <td>0.235593</td>\n",
       "      <td>0.748552</td>\n",
       "      <td>0.623655</td>\n",
       "      <td>0.421947</td>\n",
       "      <td>0.340036</td>\n",
       "      <td>0.649770</td>\n",
       "    </tr>\n",
       "    <tr>\n",
       "      <th>5</th>\n",
       "      <td>0.11</td>\n",
       "      <td>balanced</td>\n",
       "      <td>l1</td>\n",
       "      <td>saga</td>\n",
       "      <td>0.692512</td>\n",
       "      <td>0.661160</td>\n",
       "      <td>0.273738</td>\n",
       "      <td>0.233649</td>\n",
       "      <td>0.730337</td>\n",
       "      <td>0.632308</td>\n",
       "      <td>0.398124</td>\n",
       "      <td>0.339228</td>\n",
       "      <td>0.649763</td>\n",
       "    </tr>\n",
       "    <tr>\n",
       "      <th>6</th>\n",
       "      <td>0.16</td>\n",
       "      <td>balanced</td>\n",
       "      <td>l1</td>\n",
       "      <td>liblinear</td>\n",
       "      <td>0.715903</td>\n",
       "      <td>0.669490</td>\n",
       "      <td>0.294630</td>\n",
       "      <td>0.236553</td>\n",
       "      <td>0.745838</td>\n",
       "      <td>0.620424</td>\n",
       "      <td>0.422319</td>\n",
       "      <td>0.340549</td>\n",
       "      <td>0.649560</td>\n",
       "    </tr>\n",
       "    <tr>\n",
       "      <th>4</th>\n",
       "      <td>0.11</td>\n",
       "      <td>balanced</td>\n",
       "      <td>l1</td>\n",
       "      <td>liblinear</td>\n",
       "      <td>0.693192</td>\n",
       "      <td>0.660402</td>\n",
       "      <td>0.274040</td>\n",
       "      <td>0.232919</td>\n",
       "      <td>0.729107</td>\n",
       "      <td>0.630099</td>\n",
       "      <td>0.398259</td>\n",
       "      <td>0.338031</td>\n",
       "      <td>0.648413</td>\n",
       "    </tr>\n",
       "  </tbody>\n",
       "</table>\n",
       "</div>"
      ],
      "text/plain": [
       "      C class_weight penalty     solver  train_accuracy  test_accuracy  train_precision  test_precision  train_recall  test_recall  train_f1   test_f1   roc_auc\n",
       "8  0.21     balanced      l1  liblinear        0.733832       0.674683         0.313120        0.239119      0.763248     0.615258  0.443950  0.342589  0.650318\n",
       "7  0.16     balanced      l1       saga        0.714423       0.667395         0.293838        0.235593      0.748552     0.623655  0.421947  0.340036  0.649770\n",
       "5  0.11     balanced      l1       saga        0.692512       0.661160         0.273738        0.233649      0.730337     0.632308  0.398124  0.339228  0.649763\n",
       "6  0.16     balanced      l1  liblinear        0.715903       0.669490         0.294630        0.236553      0.745838     0.620424  0.422319  0.340549  0.649560\n",
       "4  0.11     balanced      l1  liblinear        0.693192       0.660402         0.274040        0.232919      0.729107     0.630099  0.398259  0.338031  0.648413"
      ]
     },
     "execution_count": 28,
     "metadata": {},
     "output_type": "execute_result"
    }
   ],
   "source": [
    "# Look at the result\n",
    "lasso_result.sort_values('roc_auc', ascending=False).head()"
   ]
  },
  {
   "cell_type": "code",
   "execution_count": 29,
   "metadata": {},
   "outputs": [],
   "source": [
    "# Extract the best model\n",
    "lasso_best_index = lasso_result.sort_values('roc_auc', ascending=False)[:1].index[0]\n",
    "lasso_best_param = lasso_param[lasso_best_index]"
   ]
  },
  {
   "cell_type": "code",
   "execution_count": 30,
   "metadata": {},
   "outputs": [
    {
     "data": {
      "text/plain": [
       "{'C': 0.21000000000000002,\n",
       " 'class_weight': 'balanced',\n",
       " 'penalty': 'l1',\n",
       " 'solver': 'liblinear'}"
      ]
     },
     "execution_count": 30,
     "metadata": {},
     "output_type": "execute_result"
    }
   ],
   "source": [
    "lasso_best_param"
   ]
  },
  {
   "cell_type": "code",
   "execution_count": 31,
   "metadata": {},
   "outputs": [
    {
     "data": {
      "text/plain": [
       "63"
      ]
     },
     "execution_count": 31,
     "metadata": {},
     "output_type": "execute_result"
    }
   ],
   "source": [
    "# Set up parameter values\n",
    "ridge_grid = {\n",
    "    'penalty': ['l2'],\n",
    "    'C': np.arange(0.01,1.02,0.05),\n",
    "    'class_weight': ['balanced'],\n",
    "    'solver': ['lbfgs', 'liblinear', 'saga']\n",
    "}\n",
    "\n",
    "ridge_param = list(ParameterGrid(ridge_grid))\n",
    "len(ridge_param)"
   ]
  },
  {
   "cell_type": "code",
   "execution_count": 32,
   "metadata": {},
   "outputs": [
    {
     "name": "stdout",
     "output_type": "stream",
     "text": [
      "Wall time: 14min 48s\n"
     ]
    }
   ],
   "source": [
    "%%time\n",
    "# Set up parameter values\n",
    "ridge_result = model_cv('logistic_regression', ridge_param, trainData, dataFold, dataCol)"
   ]
  },
  {
   "cell_type": "code",
   "execution_count": 33,
   "metadata": {},
   "outputs": [
    {
     "data": {
      "text/html": [
       "<div>\n",
       "<style scoped>\n",
       "    .dataframe tbody tr th:only-of-type {\n",
       "        vertical-align: middle;\n",
       "    }\n",
       "\n",
       "    .dataframe tbody tr th {\n",
       "        vertical-align: top;\n",
       "    }\n",
       "\n",
       "    .dataframe thead th {\n",
       "        text-align: right;\n",
       "    }\n",
       "</style>\n",
       "<table border=\"1\" class=\"dataframe\">\n",
       "  <thead>\n",
       "    <tr style=\"text-align: right;\">\n",
       "      <th></th>\n",
       "      <th>C</th>\n",
       "      <th>class_weight</th>\n",
       "      <th>penalty</th>\n",
       "      <th>solver</th>\n",
       "      <th>train_accuracy</th>\n",
       "      <th>test_accuracy</th>\n",
       "      <th>train_precision</th>\n",
       "      <th>test_precision</th>\n",
       "      <th>train_recall</th>\n",
       "      <th>test_recall</th>\n",
       "      <th>train_f1</th>\n",
       "      <th>test_f1</th>\n",
       "      <th>roc_auc</th>\n",
       "    </tr>\n",
       "  </thead>\n",
       "  <tbody>\n",
       "    <tr>\n",
       "      <th>0</th>\n",
       "      <td>0.01</td>\n",
       "      <td>balanced</td>\n",
       "      <td>l2</td>\n",
       "      <td>lbfgs</td>\n",
       "      <td>0.708527</td>\n",
       "      <td>0.667056</td>\n",
       "      <td>0.288122</td>\n",
       "      <td>0.237078</td>\n",
       "      <td>0.742771</td>\n",
       "      <td>0.628135</td>\n",
       "      <td>0.415062</td>\n",
       "      <td>0.342124</td>\n",
       "      <td>0.651389</td>\n",
       "    </tr>\n",
       "    <tr>\n",
       "      <th>2</th>\n",
       "      <td>0.01</td>\n",
       "      <td>balanced</td>\n",
       "      <td>l2</td>\n",
       "      <td>saga</td>\n",
       "      <td>0.708447</td>\n",
       "      <td>0.667056</td>\n",
       "      <td>0.288059</td>\n",
       "      <td>0.237078</td>\n",
       "      <td>0.742771</td>\n",
       "      <td>0.628135</td>\n",
       "      <td>0.414996</td>\n",
       "      <td>0.342124</td>\n",
       "      <td>0.651389</td>\n",
       "    </tr>\n",
       "    <tr>\n",
       "      <th>1</th>\n",
       "      <td>0.01</td>\n",
       "      <td>balanced</td>\n",
       "      <td>l2</td>\n",
       "      <td>liblinear</td>\n",
       "      <td>0.705859</td>\n",
       "      <td>0.663713</td>\n",
       "      <td>0.286363</td>\n",
       "      <td>0.235104</td>\n",
       "      <td>0.745025</td>\n",
       "      <td>0.629340</td>\n",
       "      <td>0.413588</td>\n",
       "      <td>0.340264</td>\n",
       "      <td>0.649954</td>\n",
       "    </tr>\n",
       "    <tr>\n",
       "      <th>4</th>\n",
       "      <td>0.06</td>\n",
       "      <td>balanced</td>\n",
       "      <td>l2</td>\n",
       "      <td>liblinear</td>\n",
       "      <td>0.757561</td>\n",
       "      <td>0.684870</td>\n",
       "      <td>0.341331</td>\n",
       "      <td>0.241402</td>\n",
       "      <td>0.796488</td>\n",
       "      <td>0.591684</td>\n",
       "      <td>0.477757</td>\n",
       "      <td>0.341286</td>\n",
       "      <td>0.646173</td>\n",
       "    </tr>\n",
       "    <tr>\n",
       "      <th>5</th>\n",
       "      <td>0.06</td>\n",
       "      <td>balanced</td>\n",
       "      <td>l2</td>\n",
       "      <td>saga</td>\n",
       "      <td>0.757680</td>\n",
       "      <td>0.685801</td>\n",
       "      <td>0.341376</td>\n",
       "      <td>0.241461</td>\n",
       "      <td>0.795915</td>\n",
       "      <td>0.588000</td>\n",
       "      <td>0.477701</td>\n",
       "      <td>0.340652</td>\n",
       "      <td>0.645162</td>\n",
       "    </tr>\n",
       "  </tbody>\n",
       "</table>\n",
       "</div>"
      ],
      "text/plain": [
       "      C class_weight penalty     solver  train_accuracy  test_accuracy  train_precision  test_precision  train_recall  test_recall  train_f1   test_f1   roc_auc\n",
       "0  0.01     balanced      l2      lbfgs        0.708527       0.667056         0.288122        0.237078      0.742771     0.628135  0.415062  0.342124  0.651389\n",
       "2  0.01     balanced      l2       saga        0.708447       0.667056         0.288059        0.237078      0.742771     0.628135  0.414996  0.342124  0.651389\n",
       "1  0.01     balanced      l2  liblinear        0.705859       0.663713         0.286363        0.235104      0.745025     0.629340  0.413588  0.340264  0.649954\n",
       "4  0.06     balanced      l2  liblinear        0.757561       0.684870         0.341331        0.241402      0.796488     0.591684  0.477757  0.341286  0.646173\n",
       "5  0.06     balanced      l2       saga        0.757680       0.685801         0.341376        0.241461      0.795915     0.588000  0.477701  0.340652  0.645162"
      ]
     },
     "execution_count": 33,
     "metadata": {},
     "output_type": "execute_result"
    }
   ],
   "source": [
    "# Look at the result\n",
    "ridge_result.sort_values('roc_auc', ascending=False).head()"
   ]
  },
  {
   "cell_type": "code",
   "execution_count": 34,
   "metadata": {},
   "outputs": [],
   "source": [
    "# Extract the best model\n",
    "ridge_best_index = ridge_result.sort_values('roc_auc', ascending=False)[:1].index[0]\n",
    "ridge_best_param = ridge_param[ridge_best_index]"
   ]
  },
  {
   "cell_type": "code",
   "execution_count": 35,
   "metadata": {},
   "outputs": [
    {
     "data": {
      "text/plain": [
       "{'C': 0.01, 'class_weight': 'balanced', 'penalty': 'l2', 'solver': 'lbfgs'}"
      ]
     },
     "execution_count": 35,
     "metadata": {},
     "output_type": "execute_result"
    }
   ],
   "source": [
    "ridge_best_param"
   ]
  },
  {
   "cell_type": "code",
   "execution_count": 36,
   "metadata": {},
   "outputs": [
    {
     "data": {
      "text/plain": [
       "48"
      ]
     },
     "execution_count": 36,
     "metadata": {},
     "output_type": "execute_result"
    }
   ],
   "source": [
    "# Set up parameter values\n",
    "elasticnet_grid = {\n",
    "    'alpha': [0.01, 0.05, 0.1, 0.5, 1, 10, 20, 100],\n",
    "    'l1_ratio': [0, 0.2, 0.4, 0.6, 0.8, 1],\n",
    "    'loss': ['log'],\n",
    "    'penalty': ['elasticnet'],\n",
    "    'tol': [0.01],\n",
    "    'max_iter': [100],\n",
    "    'class_weight': ['balanced'],\n",
    "}\n",
    "\n",
    "elasticnet_param = list(ParameterGrid(elasticnet_grid))\n",
    "len(elasticnet_param)"
   ]
  },
  {
   "cell_type": "code",
   "execution_count": 37,
   "metadata": {},
   "outputs": [
    {
     "name": "stdout",
     "output_type": "stream",
     "text": [
      "Wall time: 4min 6s\n"
     ]
    }
   ],
   "source": [
    "%%time\n",
    "# Set up parameter values\n",
    "elasticnet_result = model_cv('elasticnet', elasticnet_param, trainData, dataFold, dataCol)"
   ]
  },
  {
   "cell_type": "code",
   "execution_count": 38,
   "metadata": {},
   "outputs": [
    {
     "data": {
      "text/html": [
       "<div>\n",
       "<style scoped>\n",
       "    .dataframe tbody tr th:only-of-type {\n",
       "        vertical-align: middle;\n",
       "    }\n",
       "\n",
       "    .dataframe tbody tr th {\n",
       "        vertical-align: top;\n",
       "    }\n",
       "\n",
       "    .dataframe thead th {\n",
       "        text-align: right;\n",
       "    }\n",
       "</style>\n",
       "<table border=\"1\" class=\"dataframe\">\n",
       "  <thead>\n",
       "    <tr style=\"text-align: right;\">\n",
       "      <th></th>\n",
       "      <th>alpha</th>\n",
       "      <th>class_weight</th>\n",
       "      <th>l1_ratio</th>\n",
       "      <th>loss</th>\n",
       "      <th>max_iter</th>\n",
       "      <th>penalty</th>\n",
       "      <th>tol</th>\n",
       "      <th>train_accuracy</th>\n",
       "      <th>test_accuracy</th>\n",
       "      <th>train_precision</th>\n",
       "      <th>test_precision</th>\n",
       "      <th>train_recall</th>\n",
       "      <th>test_recall</th>\n",
       "      <th>train_f1</th>\n",
       "      <th>test_f1</th>\n",
       "      <th>roc_auc</th>\n",
       "    </tr>\n",
       "  </thead>\n",
       "  <tbody>\n",
       "    <tr>\n",
       "      <th>6</th>\n",
       "      <td>0.05</td>\n",
       "      <td>balanced</td>\n",
       "      <td>0.0</td>\n",
       "      <td>log</td>\n",
       "      <td>100</td>\n",
       "      <td>elasticnet</td>\n",
       "      <td>0.01</td>\n",
       "      <td>0.681323</td>\n",
       "      <td>0.649309</td>\n",
       "      <td>0.265494</td>\n",
       "      <td>0.230245</td>\n",
       "      <td>0.727427</td>\n",
       "      <td>0.648534</td>\n",
       "      <td>0.388845</td>\n",
       "      <td>0.336934</td>\n",
       "      <td>0.649987</td>\n",
       "    </tr>\n",
       "    <tr>\n",
       "      <th>12</th>\n",
       "      <td>0.10</td>\n",
       "      <td>balanced</td>\n",
       "      <td>0.0</td>\n",
       "      <td>log</td>\n",
       "      <td>100</td>\n",
       "      <td>elasticnet</td>\n",
       "      <td>0.01</td>\n",
       "      <td>0.669293</td>\n",
       "      <td>0.642558</td>\n",
       "      <td>0.255307</td>\n",
       "      <td>0.226520</td>\n",
       "      <td>0.714085</td>\n",
       "      <td>0.648997</td>\n",
       "      <td>0.375798</td>\n",
       "      <td>0.332924</td>\n",
       "      <td>0.646262</td>\n",
       "    </tr>\n",
       "    <tr>\n",
       "      <th>3</th>\n",
       "      <td>0.01</td>\n",
       "      <td>balanced</td>\n",
       "      <td>0.6</td>\n",
       "      <td>log</td>\n",
       "      <td>100</td>\n",
       "      <td>elasticnet</td>\n",
       "      <td>0.01</td>\n",
       "      <td>0.624612</td>\n",
       "      <td>0.615584</td>\n",
       "      <td>0.228315</td>\n",
       "      <td>0.217604</td>\n",
       "      <td>0.707424</td>\n",
       "      <td>0.680477</td>\n",
       "      <td>0.344649</td>\n",
       "      <td>0.328462</td>\n",
       "      <td>0.642822</td>\n",
       "    </tr>\n",
       "    <tr>\n",
       "      <th>1</th>\n",
       "      <td>0.01</td>\n",
       "      <td>balanced</td>\n",
       "      <td>0.2</td>\n",
       "      <td>log</td>\n",
       "      <td>100</td>\n",
       "      <td>elasticnet</td>\n",
       "      <td>0.01</td>\n",
       "      <td>0.659937</td>\n",
       "      <td>0.638224</td>\n",
       "      <td>0.249792</td>\n",
       "      <td>0.223861</td>\n",
       "      <td>0.717424</td>\n",
       "      <td>0.647163</td>\n",
       "      <td>0.370238</td>\n",
       "      <td>0.330744</td>\n",
       "      <td>0.642476</td>\n",
       "    </tr>\n",
       "    <tr>\n",
       "      <th>0</th>\n",
       "      <td>0.01</td>\n",
       "      <td>balanced</td>\n",
       "      <td>0.0</td>\n",
       "      <td>log</td>\n",
       "      <td>100</td>\n",
       "      <td>elasticnet</td>\n",
       "      <td>0.01</td>\n",
       "      <td>0.734748</td>\n",
       "      <td>0.679193</td>\n",
       "      <td>0.315054</td>\n",
       "      <td>0.237987</td>\n",
       "      <td>0.739312</td>\n",
       "      <td>0.587922</td>\n",
       "      <td>0.439106</td>\n",
       "      <td>0.335371</td>\n",
       "      <td>0.641664</td>\n",
       "    </tr>\n",
       "  </tbody>\n",
       "</table>\n",
       "</div>"
      ],
      "text/plain": [
       "    alpha class_weight  l1_ratio loss  max_iter     penalty   tol  train_accuracy  test_accuracy  train_precision  test_precision  train_recall  test_recall  train_f1   test_f1   roc_auc\n",
       "6    0.05     balanced       0.0  log       100  elasticnet  0.01        0.681323       0.649309         0.265494        0.230245      0.727427     0.648534  0.388845  0.336934  0.649987\n",
       "12   0.10     balanced       0.0  log       100  elasticnet  0.01        0.669293       0.642558         0.255307        0.226520      0.714085     0.648997  0.375798  0.332924  0.646262\n",
       "3    0.01     balanced       0.6  log       100  elasticnet  0.01        0.624612       0.615584         0.228315        0.217604      0.707424     0.680477  0.344649  0.328462  0.642822\n",
       "1    0.01     balanced       0.2  log       100  elasticnet  0.01        0.659937       0.638224         0.249792        0.223861      0.717424     0.647163  0.370238  0.330744  0.642476\n",
       "0    0.01     balanced       0.0  log       100  elasticnet  0.01        0.734748       0.679193         0.315054        0.237987      0.739312     0.587922  0.439106  0.335371  0.641664"
      ]
     },
     "execution_count": 38,
     "metadata": {},
     "output_type": "execute_result"
    }
   ],
   "source": [
    "# Look at the result\n",
    "elasticnet_result.sort_values('roc_auc', ascending=False).head()"
   ]
  },
  {
   "cell_type": "code",
   "execution_count": 39,
   "metadata": {},
   "outputs": [],
   "source": [
    "# Extract the best model\n",
    "elasticnet_best_index = elasticnet_result.sort_values('roc_auc', ascending=False)[:1].index[0]\n",
    "elasticnet_best_param = elasticnet_param[elasticnet_best_index]"
   ]
  },
  {
   "cell_type": "code",
   "execution_count": 40,
   "metadata": {},
   "outputs": [
    {
     "data": {
      "text/plain": [
       "{'alpha': 0.05,\n",
       " 'class_weight': 'balanced',\n",
       " 'l1_ratio': 0,\n",
       " 'loss': 'log',\n",
       " 'max_iter': 100,\n",
       " 'penalty': 'elasticnet',\n",
       " 'tol': 0.01}"
      ]
     },
     "execution_count": 40,
     "metadata": {},
     "output_type": "execute_result"
    }
   ],
   "source": [
    "elasticnet_best_param"
   ]
  },
  {
   "cell_type": "markdown",
   "metadata": {},
   "source": [
    "## Random Forest"
   ]
  },
  {
   "cell_type": "code",
   "execution_count": 41,
   "metadata": {},
   "outputs": [
    {
     "data": {
      "text/plain": [
       "96"
      ]
     },
     "execution_count": 41,
     "metadata": {},
     "output_type": "execute_result"
    }
   ],
   "source": [
    "# Set up parameter values\n",
    "rf_grid = {\n",
    "    'max_depth': [5, 10, 15, 20],\n",
    "    'max_features': [None, 'sqrt', 'log2'],\n",
    "    'n_estimators': [10, 20],\n",
    "    'class_weight': ['balanced'],\n",
    "    'criterion':['gini','entropy'],\n",
    "    'bootstrap':[True, False],\n",
    "    'n_jobs':[-1]\n",
    "}\n",
    "\n",
    "rf_param = list(ParameterGrid(rf_grid))\n",
    "len(rf_param)"
   ]
  },
  {
   "cell_type": "code",
   "execution_count": 42,
   "metadata": {},
   "outputs": [
    {
     "name": "stdout",
     "output_type": "stream",
     "text": [
      "Wall time: 11min 52s\n"
     ]
    }
   ],
   "source": [
    "%%time\n",
    "# Set up parameter values\n",
    "rf_result = model_cv('random_forest', rf_param, trainData, dataFold, dataCol)"
   ]
  },
  {
   "cell_type": "code",
   "execution_count": 43,
   "metadata": {},
   "outputs": [
    {
     "data": {
      "text/html": [
       "<div>\n",
       "<style scoped>\n",
       "    .dataframe tbody tr th:only-of-type {\n",
       "        vertical-align: middle;\n",
       "    }\n",
       "\n",
       "    .dataframe tbody tr th {\n",
       "        vertical-align: top;\n",
       "    }\n",
       "\n",
       "    .dataframe thead th {\n",
       "        text-align: right;\n",
       "    }\n",
       "</style>\n",
       "<table border=\"1\" class=\"dataframe\">\n",
       "  <thead>\n",
       "    <tr style=\"text-align: right;\">\n",
       "      <th></th>\n",
       "      <th>bootstrap</th>\n",
       "      <th>class_weight</th>\n",
       "      <th>criterion</th>\n",
       "      <th>max_depth</th>\n",
       "      <th>max_features</th>\n",
       "      <th>n_estimators</th>\n",
       "      <th>n_jobs</th>\n",
       "      <th>train_accuracy</th>\n",
       "      <th>test_accuracy</th>\n",
       "      <th>train_precision</th>\n",
       "      <th>test_precision</th>\n",
       "      <th>train_recall</th>\n",
       "      <th>test_recall</th>\n",
       "      <th>train_f1</th>\n",
       "      <th>test_f1</th>\n",
       "      <th>roc_auc</th>\n",
       "    </tr>\n",
       "  </thead>\n",
       "  <tbody>\n",
       "    <tr>\n",
       "      <th>0</th>\n",
       "      <td>True</td>\n",
       "      <td>balanced</td>\n",
       "      <td>gini</td>\n",
       "      <td>5</td>\n",
       "      <td>None</td>\n",
       "      <td>10</td>\n",
       "      <td>-1</td>\n",
       "      <td>0.731331</td>\n",
       "      <td>0.701810</td>\n",
       "      <td>0.301442</td>\n",
       "      <td>0.253677</td>\n",
       "      <td>0.705187</td>\n",
       "      <td>0.587414</td>\n",
       "      <td>0.422290</td>\n",
       "      <td>0.352849</td>\n",
       "      <td>0.654014</td>\n",
       "    </tr>\n",
       "    <tr>\n",
       "      <th>1</th>\n",
       "      <td>True</td>\n",
       "      <td>balanced</td>\n",
       "      <td>gini</td>\n",
       "      <td>5</td>\n",
       "      <td>None</td>\n",
       "      <td>20</td>\n",
       "      <td>-1</td>\n",
       "      <td>0.722424</td>\n",
       "      <td>0.692110</td>\n",
       "      <td>0.296163</td>\n",
       "      <td>0.248415</td>\n",
       "      <td>0.719771</td>\n",
       "      <td>0.600180</td>\n",
       "      <td>0.419496</td>\n",
       "      <td>0.349701</td>\n",
       "      <td>0.653936</td>\n",
       "    </tr>\n",
       "    <tr>\n",
       "      <th>25</th>\n",
       "      <td>True</td>\n",
       "      <td>balanced</td>\n",
       "      <td>entropy</td>\n",
       "      <td>5</td>\n",
       "      <td>None</td>\n",
       "      <td>20</td>\n",
       "      <td>-1</td>\n",
       "      <td>0.715724</td>\n",
       "      <td>0.685455</td>\n",
       "      <td>0.289138</td>\n",
       "      <td>0.244855</td>\n",
       "      <td>0.713161</td>\n",
       "      <td>0.605370</td>\n",
       "      <td>0.411331</td>\n",
       "      <td>0.347106</td>\n",
       "      <td>0.652259</td>\n",
       "    </tr>\n",
       "    <tr>\n",
       "      <th>87</th>\n",
       "      <td>False</td>\n",
       "      <td>balanced</td>\n",
       "      <td>entropy</td>\n",
       "      <td>15</td>\n",
       "      <td>sqrt</td>\n",
       "      <td>20</td>\n",
       "      <td>-1</td>\n",
       "      <td>0.811384</td>\n",
       "      <td>0.723024</td>\n",
       "      <td>0.412312</td>\n",
       "      <td>0.261576</td>\n",
       "      <td>0.830773</td>\n",
       "      <td>0.539751</td>\n",
       "      <td>0.550907</td>\n",
       "      <td>0.350431</td>\n",
       "      <td>0.646446</td>\n",
       "    </tr>\n",
       "    <tr>\n",
       "      <th>51</th>\n",
       "      <td>False</td>\n",
       "      <td>balanced</td>\n",
       "      <td>gini</td>\n",
       "      <td>5</td>\n",
       "      <td>sqrt</td>\n",
       "      <td>20</td>\n",
       "      <td>-1</td>\n",
       "      <td>0.690287</td>\n",
       "      <td>0.655524</td>\n",
       "      <td>0.271879</td>\n",
       "      <td>0.230284</td>\n",
       "      <td>0.727828</td>\n",
       "      <td>0.631299</td>\n",
       "      <td>0.395744</td>\n",
       "      <td>0.335646</td>\n",
       "      <td>0.645965</td>\n",
       "    </tr>\n",
       "  </tbody>\n",
       "</table>\n",
       "</div>"
      ],
      "text/plain": [
       "    bootstrap class_weight criterion  max_depth max_features  n_estimators  n_jobs  train_accuracy  test_accuracy  train_precision  test_precision  train_recall  test_recall  train_f1   test_f1   roc_auc\n",
       "0        True     balanced      gini          5         None            10      -1        0.731331       0.701810         0.301442        0.253677      0.705187     0.587414  0.422290  0.352849  0.654014\n",
       "1        True     balanced      gini          5         None            20      -1        0.722424       0.692110         0.296163        0.248415      0.719771     0.600180  0.419496  0.349701  0.653936\n",
       "25       True     balanced   entropy          5         None            20      -1        0.715724       0.685455         0.289138        0.244855      0.713161     0.605370  0.411331  0.347106  0.652259\n",
       "87      False     balanced   entropy         15         sqrt            20      -1        0.811384       0.723024         0.412312        0.261576      0.830773     0.539751  0.550907  0.350431  0.646446\n",
       "51      False     balanced      gini          5         sqrt            20      -1        0.690287       0.655524         0.271879        0.230284      0.727828     0.631299  0.395744  0.335646  0.645965"
      ]
     },
     "execution_count": 43,
     "metadata": {},
     "output_type": "execute_result"
    }
   ],
   "source": [
    "# Look at the result\n",
    "rf_result.sort_values('roc_auc', ascending=False).head()"
   ]
  },
  {
   "cell_type": "code",
   "execution_count": 44,
   "metadata": {},
   "outputs": [],
   "source": [
    "# Extract the best model\n",
    "rf_best_index = rf_result.sort_values('roc_auc', ascending=False)[:1].index[0]\n",
    "rf_best_param = rf_param[rf_best_index]"
   ]
  },
  {
   "cell_type": "code",
   "execution_count": 45,
   "metadata": {},
   "outputs": [
    {
     "data": {
      "text/plain": [
       "{'bootstrap': True,\n",
       " 'class_weight': 'balanced',\n",
       " 'criterion': 'gini',\n",
       " 'max_depth': 5,\n",
       " 'max_features': None,\n",
       " 'n_estimators': 10,\n",
       " 'n_jobs': -1}"
      ]
     },
     "execution_count": 45,
     "metadata": {},
     "output_type": "execute_result"
    }
   ],
   "source": [
    "rf_best_param"
   ]
  },
  {
   "cell_type": "markdown",
   "metadata": {},
   "source": [
    "## Model Comparison"
   ]
  },
  {
   "cell_type": "code",
   "execution_count": 46,
   "metadata": {},
   "outputs": [],
   "source": [
    "# Get the best model using the best paramter set\n",
    "linearSVC_best = get_model('support_vector_machine', linearSVC_best_param)\n",
    "nonlinearSVC_best = get_model('support_vector_machine', nonlinearSVC_best_param)\n",
    "gaussianNB_best = get_model('gaussian_naive_bayes', gaussianNB_best_param)\n",
    "complementNB_best = get_model('complement_naive_bayes', complementNB_best_param)\n",
    "lasso_best = get_model('logistic_regression', lasso_best_param)\n",
    "ridge_best = get_model('logistic_regression', ridge_best_param)\n",
    "elasticnet_best = get_model('elasticnet', elasticnet_best_param)\n",
    "rf_best = get_model('random_forest', rf_best_param)"
   ]
  },
  {
   "cell_type": "code",
   "execution_count": 47,
   "metadata": {},
   "outputs": [
    {
     "name": "stdout",
     "output_type": "stream",
     "text": [
      "Wall time: 10min 17s\n"
     ]
    }
   ],
   "source": [
    "%%time\n",
    "# Compute the result for each best model\n",
    "linearSVC_best_result = model_result(linearSVC_best, trainData, testData, dataCol)\n",
    "nonlinearSVC_best_result = model_result(nonlinearSVC_best, trainData, testData, dataCol)\n",
    "gaussianNB_best_result = model_result(gaussianNB_best, trainData, testData, dataCol)\n",
    "complementNB_best_result = model_result(complementNB_best, trainData, testData, dataCol)\n",
    "lasso_best_result = model_result(lasso_best, trainData, testData, dataCol)\n",
    "ridge_best_result = model_result(ridge_best, trainData, testData, dataCol)\n",
    "elasticnet_best_result = model_result(elasticnet_best, trainData, testData, dataCol)\n",
    "rf_best_result = model_result(rf_best, trainData, testData, dataCol)"
   ]
  },
  {
   "cell_type": "code",
   "execution_count": 48,
   "metadata": {},
   "outputs": [],
   "source": [
    "# Combined the result \n",
    "all_result = [linearSVC_best_result, nonlinearSVC_best_result, gaussianNB_best_result, complementNB_best_result, \n",
    "              lasso_best_result, ridge_best_result, elasticnet_best_result, rf_best_result]\n",
    "\n",
    "# Define model names\n",
    "model_list = ['Linear SVM', 'Nonlinear SVM', 'Gaussian NB', 'Complement NB', \n",
    "              'Lasso Regression', 'Ridge Regression', 'Elastic Net Regression', 'Random Forest']\n",
    "\n",
    "# Save the result into a dataframe\n",
    "final_result = pd.DataFrame(all_result, index=model_list)"
   ]
  },
  {
   "cell_type": "code",
   "execution_count": 51,
   "metadata": {},
   "outputs": [
    {
     "data": {
      "text/html": [
       "<div>\n",
       "<style scoped>\n",
       "    .dataframe tbody tr th:only-of-type {\n",
       "        vertical-align: middle;\n",
       "    }\n",
       "\n",
       "    .dataframe tbody tr th {\n",
       "        vertical-align: top;\n",
       "    }\n",
       "\n",
       "    .dataframe thead th {\n",
       "        text-align: right;\n",
       "    }\n",
       "</style>\n",
       "<table border=\"1\" class=\"dataframe\">\n",
       "  <thead>\n",
       "    <tr style=\"text-align: right;\">\n",
       "      <th></th>\n",
       "      <th>roc_auc</th>\n",
       "      <th>test_accuracy</th>\n",
       "      <th>test_f1</th>\n",
       "      <th>test_precision</th>\n",
       "      <th>test_recall</th>\n",
       "      <th>train_accuracy</th>\n",
       "      <th>train_f1</th>\n",
       "      <th>train_precision</th>\n",
       "      <th>train_recall</th>\n",
       "    </tr>\n",
       "  </thead>\n",
       "  <tbody>\n",
       "    <tr>\n",
       "      <th>Linear SVM</th>\n",
       "      <td>0.708349</td>\n",
       "      <td>0.675570</td>\n",
       "      <td>0.374372</td>\n",
       "      <td>0.249164</td>\n",
       "      <td>0.752525</td>\n",
       "      <td>0.700382</td>\n",
       "      <td>0.413084</td>\n",
       "      <td>0.284062</td>\n",
       "      <td>0.756849</td>\n",
       "    </tr>\n",
       "    <tr>\n",
       "      <th>Elastic Net Regression</th>\n",
       "      <td>0.700307</td>\n",
       "      <td>0.669055</td>\n",
       "      <td>0.366584</td>\n",
       "      <td>0.243377</td>\n",
       "      <td>0.742424</td>\n",
       "      <td>0.658874</td>\n",
       "      <td>0.377720</td>\n",
       "      <td>0.253209</td>\n",
       "      <td>0.743151</td>\n",
       "    </tr>\n",
       "    <tr>\n",
       "      <th>Ridge Regression</th>\n",
       "      <td>0.700207</td>\n",
       "      <td>0.695114</td>\n",
       "      <td>0.374332</td>\n",
       "      <td>0.254545</td>\n",
       "      <td>0.707071</td>\n",
       "      <td>0.702767</td>\n",
       "      <td>0.408357</td>\n",
       "      <td>0.282523</td>\n",
       "      <td>0.736301</td>\n",
       "    </tr>\n",
       "    <tr>\n",
       "      <th>Nonlinear SVM</th>\n",
       "      <td>0.691517</td>\n",
       "      <td>0.661238</td>\n",
       "      <td>0.358025</td>\n",
       "      <td>0.236928</td>\n",
       "      <td>0.732323</td>\n",
       "      <td>0.653467</td>\n",
       "      <td>0.372227</td>\n",
       "      <td>0.248940</td>\n",
       "      <td>0.737443</td>\n",
       "    </tr>\n",
       "    <tr>\n",
       "      <th>Lasso Regression</th>\n",
       "      <td>0.683934</td>\n",
       "      <td>0.689251</td>\n",
       "      <td>0.359732</td>\n",
       "      <td>0.244973</td>\n",
       "      <td>0.676768</td>\n",
       "      <td>0.729485</td>\n",
       "      <td>0.441746</td>\n",
       "      <td>0.309995</td>\n",
       "      <td>0.768265</td>\n",
       "    </tr>\n",
       "    <tr>\n",
       "      <th>Random Forest</th>\n",
       "      <td>0.663543</td>\n",
       "      <td>0.691205</td>\n",
       "      <td>0.343490</td>\n",
       "      <td>0.236641</td>\n",
       "      <td>0.626263</td>\n",
       "      <td>0.711991</td>\n",
       "      <td>0.405255</td>\n",
       "      <td>0.284463</td>\n",
       "      <td>0.704338</td>\n",
       "    </tr>\n",
       "    <tr>\n",
       "      <th>Complement NB</th>\n",
       "      <td>0.650465</td>\n",
       "      <td>0.623453</td>\n",
       "      <td>0.320000</td>\n",
       "      <td>0.208589</td>\n",
       "      <td>0.686869</td>\n",
       "      <td>0.675413</td>\n",
       "      <td>0.411646</td>\n",
       "      <td>0.275357</td>\n",
       "      <td>0.815068</td>\n",
       "    </tr>\n",
       "    <tr>\n",
       "      <th>Gaussian NB</th>\n",
       "      <td>0.612639</td>\n",
       "      <td>0.403909</td>\n",
       "      <td>0.278960</td>\n",
       "      <td>0.165266</td>\n",
       "      <td>0.893939</td>\n",
       "      <td>0.452926</td>\n",
       "      <td>0.319351</td>\n",
       "      <td>0.193155</td>\n",
       "      <td>0.921233</td>\n",
       "    </tr>\n",
       "  </tbody>\n",
       "</table>\n",
       "</div>"
      ],
      "text/plain": [
       "                         roc_auc  test_accuracy   test_f1  test_precision  test_recall  train_accuracy  train_f1  train_precision  train_recall\n",
       "Linear SVM              0.708349       0.675570  0.374372        0.249164     0.752525        0.700382  0.413084         0.284062      0.756849\n",
       "Elastic Net Regression  0.700307       0.669055  0.366584        0.243377     0.742424        0.658874  0.377720         0.253209      0.743151\n",
       "Ridge Regression        0.700207       0.695114  0.374332        0.254545     0.707071        0.702767  0.408357         0.282523      0.736301\n",
       "Nonlinear SVM           0.691517       0.661238  0.358025        0.236928     0.732323        0.653467  0.372227         0.248940      0.737443\n",
       "Lasso Regression        0.683934       0.689251  0.359732        0.244973     0.676768        0.729485  0.441746         0.309995      0.768265\n",
       "Random Forest           0.663543       0.691205  0.343490        0.236641     0.626263        0.711991  0.405255         0.284463      0.704338\n",
       "Complement NB           0.650465       0.623453  0.320000        0.208589     0.686869        0.675413  0.411646         0.275357      0.815068\n",
       "Gaussian NB             0.612639       0.403909  0.278960        0.165266     0.893939        0.452926  0.319351         0.193155      0.921233"
      ]
     },
     "execution_count": 51,
     "metadata": {},
     "output_type": "execute_result"
    }
   ],
   "source": [
    "final_result.sort_values('roc_auc', ascending=False)"
   ]
  },
  {
   "cell_type": "code",
   "execution_count": 52,
   "metadata": {},
   "outputs": [
    {
     "name": "stdout",
     "output_type": "stream",
     "text": [
      "Wall time: 10min 12s\n"
     ]
    }
   ],
   "source": [
    "%%time\n",
    "# Compute tpr and fpr for the each model\n",
    "linearSVC_roc = get_tpr_fpr(linearSVC_best, trainData, testData, dataCol)\n",
    "nonlinearSVC_roc = get_tpr_fpr(nonlinearSVC_best, trainData, testData, dataCol)\n",
    "gaussianNB_roc = get_tpr_fpr(gaussianNB_best, trainData, testData, dataCol)\n",
    "complementNB_roc = get_tpr_fpr(complementNB_best, trainData, testData, dataCol)\n",
    "lasso_roc = get_tpr_fpr(lasso_best, trainData, testData, dataCol)\n",
    "ridge_roc = get_tpr_fpr(ridge_best, trainData, testData, dataCol)\n",
    "elasticnet_roc = get_tpr_fpr(elasticnet_best, trainData, testData, dataCol)\n",
    "rf_roc = get_tpr_fpr(rf_best, trainData, testData, dataCol)"
   ]
  },
  {
   "cell_type": "code",
   "execution_count": 115,
   "metadata": {},
   "outputs": [],
   "source": [
    "# Get the best roc for each model\n",
    "all_roc_curve = [linearSVC_roc, gaussianNB_roc, elasticnet_roc, rf_roc]\n",
    "model_name = ['Support Vector Machine', 'Naive Bayes', 'Logistic Regression', 'Random Forest']"
   ]
  },
  {
   "cell_type": "code",
   "execution_count": 116,
   "metadata": {},
   "outputs": [
    {
     "data": {
      "image/png": "[encoded data removed]",
      "text/plain": [
       "<Figure size 720x480 with 1 Axes>"
      ]
     },
     "metadata": {
      "needs_background": "light"
     },
     "output_type": "display_data"
    }
   ],
   "source": [
    "# Plot multiple ROC curves\n",
    "plt.figure(dpi=120)\n",
    "for i in range(len(all_roc_curve)):\n",
    "    fpr = all_roc_curve[i][0]\n",
    "    tpr = all_roc_curve[i][1]\n",
    "    plt.plot(fpr, tpr, label=model_name[i])\n",
    "\n",
    "plt.plot([0, 1], [0, 1],'k--')\n",
    "plt.xlabel('False Positive Rate')\n",
    "plt.ylabel('True Positive Rate')\n",
    "plt.title('Receiver Operating Characteristic')\n",
    "plt.legend()\n",
    "plt.show()   "
   ]
  },
  {
   "cell_type": "code",
   "execution_count": 117,
   "metadata": {},
   "outputs": [
    {
     "name": "stdout",
     "output_type": "stream",
     "text": [
      "Wall time: 11min 30s\n"
     ]
    }
   ],
   "source": [
    "%%time\n",
    "# Compute the probability \n",
    "linearSVC_proba = get_proba(linearSVC_best, trainData, testData, dataCol)\n",
    "nonlinearSVC_proba = get_proba(nonlinearSVC_best, trainData, testData, dataCol)\n",
    "gaussianNB_proba = get_proba(gaussianNB_best, trainData, testData, dataCol)\n",
    "complementNB_proba = get_proba(complementNB_best, trainData, testData, dataCol)\n",
    "lasso_proba = get_proba(lasso_best, trainData, testData, dataCol)\n",
    "ridge_proba = get_proba(ridge_best, trainData, testData, dataCol)\n",
    "elasticnet_proba = get_proba(elasticnet_best, trainData, testData, dataCol)\n",
    "rf_proba = get_proba(rf_best, trainData, testData, dataCol)"
   ]
  },
  {
   "cell_type": "code",
   "execution_count": 141,
   "metadata": {},
   "outputs": [],
   "source": [
    "# Collect predicted probability from all models\n",
    "all_proba = [linearSVC_proba, gaussianNB_proba, elasticnet_proba, rf_proba]\n",
    "model_name = ['Support Vector Machine', 'Naive Bayes', 'Logistic Regression', 'Random Forest']"
   ]
  },
  {
   "cell_type": "code",
   "execution_count": 167,
   "metadata": {},
   "outputs": [],
   "source": [
    "# Calculate threshold adjustment\n",
    "thres_adjustment = pd.DataFrame({})\n",
    "thres_adjustment['threshold'] = [0.2, 0.4, 0.6, 0.8]\n",
    "for i in range(len(all_proba)):\n",
    "    thres_adjustment[model_name[i]] = [sum(all_proba[i][-1] > x) for x in thres_adjustment['threshold']]\n",
    "thres_adjustment['Actual']  = testData['TARGET'].sum()"
   ]
  },
  {
   "cell_type": "code",
   "execution_count": 168,
   "metadata": {},
   "outputs": [
    {
     "data": {
      "text/html": [
       "<div>\n",
       "<style scoped>\n",
       "    .dataframe tbody tr th:only-of-type {\n",
       "        vertical-align: middle;\n",
       "    }\n",
       "\n",
       "    .dataframe tbody tr th {\n",
       "        vertical-align: top;\n",
       "    }\n",
       "\n",
       "    .dataframe thead th {\n",
       "        text-align: right;\n",
       "    }\n",
       "</style>\n",
       "<table border=\"1\" class=\"dataframe\">\n",
       "  <thead>\n",
       "    <tr style=\"text-align: right;\">\n",
       "      <th></th>\n",
       "      <th>threshold</th>\n",
       "      <th>Support Vector Machine</th>\n",
       "      <th>Naive Bayes</th>\n",
       "      <th>Logistic Regression</th>\n",
       "      <th>Random Forest</th>\n",
       "      <th>Actual</th>\n",
       "    </tr>\n",
       "  </thead>\n",
       "  <tbody>\n",
       "    <tr>\n",
       "      <th>0</th>\n",
       "      <td>0.2</td>\n",
       "      <td>351</td>\n",
       "      <td>1123</td>\n",
       "      <td>1527</td>\n",
       "      <td>1512</td>\n",
       "      <td>198</td>\n",
       "    </tr>\n",
       "    <tr>\n",
       "      <th>1</th>\n",
       "      <td>0.4</td>\n",
       "      <td>39</td>\n",
       "      <td>1083</td>\n",
       "      <td>1023</td>\n",
       "      <td>711</td>\n",
       "      <td>198</td>\n",
       "    </tr>\n",
       "    <tr>\n",
       "      <th>2</th>\n",
       "      <td>0.6</td>\n",
       "      <td>0</td>\n",
       "      <td>1053</td>\n",
       "      <td>160</td>\n",
       "      <td>412</td>\n",
       "      <td>198</td>\n",
       "    </tr>\n",
       "    <tr>\n",
       "      <th>3</th>\n",
       "      <td>0.8</td>\n",
       "      <td>0</td>\n",
       "      <td>1007</td>\n",
       "      <td>0</td>\n",
       "      <td>10</td>\n",
       "      <td>198</td>\n",
       "    </tr>\n",
       "  </tbody>\n",
       "</table>\n",
       "</div>"
      ],
      "text/plain": [
       "   threshold  Support Vector Machine  Naive Bayes  Logistic Regression  Random Forest  Actual\n",
       "0        0.2                     351         1123                 1527           1512     198\n",
       "1        0.4                      39         1083                 1023            711     198\n",
       "2        0.6                       0         1053                  160            412     198\n",
       "3        0.8                       0         1007                    0             10     198"
      ]
     },
     "execution_count": 168,
     "metadata": {},
     "output_type": "execute_result"
    }
   ],
   "source": [
    "thres_adjustment"
   ]
  },
  {
   "cell_type": "markdown",
   "metadata": {},
   "source": [
    "## Lift Chart"
   ]
  },
  {
   "cell_type": "code",
   "execution_count": 55,
   "metadata": {},
   "outputs": [
    {
     "name": "stdout",
     "output_type": "stream",
     "text": [
      "Wall time: 4min 41s\n"
     ]
    },
    {
     "data": {
      "text/html": [
       "<div>\n",
       "<style scoped>\n",
       "    .dataframe tbody tr th:only-of-type {\n",
       "        vertical-align: middle;\n",
       "    }\n",
       "\n",
       "    .dataframe tbody tr th {\n",
       "        vertical-align: top;\n",
       "    }\n",
       "\n",
       "    .dataframe thead th {\n",
       "        text-align: right;\n",
       "    }\n",
       "</style>\n",
       "<table border=\"1\" class=\"dataframe\">\n",
       "  <thead>\n",
       "    <tr style=\"text-align: right;\">\n",
       "      <th></th>\n",
       "      <th>Quantile</th>\n",
       "      <th>Amount</th>\n",
       "      <th>Lower Bound</th>\n",
       "      <th>Upper Bound</th>\n",
       "      <th>Predicted #</th>\n",
       "      <th>Actual #</th>\n",
       "    </tr>\n",
       "  </thead>\n",
       "  <tbody>\n",
       "    <tr>\n",
       "      <th>0</th>\n",
       "      <td>1</td>\n",
       "      <td>154</td>\n",
       "      <td>0.015</td>\n",
       "      <td>0.039</td>\n",
       "      <td>4.7</td>\n",
       "      <td>2</td>\n",
       "    </tr>\n",
       "    <tr>\n",
       "      <th>1</th>\n",
       "      <td>2</td>\n",
       "      <td>153</td>\n",
       "      <td>0.039</td>\n",
       "      <td>0.057</td>\n",
       "      <td>7.3</td>\n",
       "      <td>6</td>\n",
       "    </tr>\n",
       "    <tr>\n",
       "      <th>2</th>\n",
       "      <td>3</td>\n",
       "      <td>154</td>\n",
       "      <td>0.057</td>\n",
       "      <td>0.067</td>\n",
       "      <td>9.5</td>\n",
       "      <td>9</td>\n",
       "    </tr>\n",
       "    <tr>\n",
       "      <th>3</th>\n",
       "      <td>4</td>\n",
       "      <td>153</td>\n",
       "      <td>0.067</td>\n",
       "      <td>0.082</td>\n",
       "      <td>11.4</td>\n",
       "      <td>6</td>\n",
       "    </tr>\n",
       "    <tr>\n",
       "      <th>4</th>\n",
       "      <td>5</td>\n",
       "      <td>154</td>\n",
       "      <td>0.082</td>\n",
       "      <td>0.107</td>\n",
       "      <td>14.4</td>\n",
       "      <td>9</td>\n",
       "    </tr>\n",
       "    <tr>\n",
       "      <th>5</th>\n",
       "      <td>6</td>\n",
       "      <td>153</td>\n",
       "      <td>0.107</td>\n",
       "      <td>0.138</td>\n",
       "      <td>18.6</td>\n",
       "      <td>16</td>\n",
       "    </tr>\n",
       "    <tr>\n",
       "      <th>6</th>\n",
       "      <td>7</td>\n",
       "      <td>153</td>\n",
       "      <td>0.138</td>\n",
       "      <td>0.171</td>\n",
       "      <td>23.6</td>\n",
       "      <td>20</td>\n",
       "    </tr>\n",
       "    <tr>\n",
       "      <th>7</th>\n",
       "      <td>8</td>\n",
       "      <td>154</td>\n",
       "      <td>0.171</td>\n",
       "      <td>0.217</td>\n",
       "      <td>29.5</td>\n",
       "      <td>39</td>\n",
       "    </tr>\n",
       "    <tr>\n",
       "      <th>8</th>\n",
       "      <td>9</td>\n",
       "      <td>153</td>\n",
       "      <td>0.217</td>\n",
       "      <td>0.287</td>\n",
       "      <td>38.5</td>\n",
       "      <td>41</td>\n",
       "    </tr>\n",
       "    <tr>\n",
       "      <th>9</th>\n",
       "      <td>10</td>\n",
       "      <td>154</td>\n",
       "      <td>0.289</td>\n",
       "      <td>1.000</td>\n",
       "      <td>56.4</td>\n",
       "      <td>50</td>\n",
       "    </tr>\n",
       "  </tbody>\n",
       "</table>\n",
       "</div>"
      ],
      "text/plain": [
       "   Quantile  Amount  Lower Bound  Upper Bound  Predicted #  Actual #\n",
       "0         1     154        0.015        0.039          4.7         2\n",
       "1         2     153        0.039        0.057          7.3         6\n",
       "2         3     154        0.057        0.067          9.5         9\n",
       "3         4     153        0.067        0.082         11.4         6\n",
       "4         5     154        0.082        0.107         14.4         9\n",
       "5         6     153        0.107        0.138         18.6        16\n",
       "6         7     153        0.138        0.171         23.6        20\n",
       "7         8     154        0.171        0.217         29.5        39\n",
       "8         9     153        0.217        0.287         38.5        41\n",
       "9        10     154        0.289        1.000         56.4        50"
      ]
     },
     "execution_count": 55,
     "metadata": {},
     "output_type": "execute_result"
    }
   ],
   "source": [
    "%%time\n",
    "# Compute Lift Chart\n",
    "plot_lift_chart(linearSVC_best, trainData, testData, dataCol)"
   ]
  },
  {
   "cell_type": "markdown",
   "metadata": {},
   "source": [
    "## Logistic Regression Summary"
   ]
  },
  {
   "cell_type": "code",
   "execution_count": 118,
   "metadata": {},
   "outputs": [],
   "source": [
    "# Compute Regression Summary for the best model\n",
    "elasticnet_summary = reg_summary(elasticnet_best, dataCol)\n",
    "elasticnet_summary['abs(coefficient)'] = np.absolute(elasticnet_summary['coefficient'])"
   ]
  },
  {
   "cell_type": "code",
   "execution_count": 119,
   "metadata": {},
   "outputs": [
    {
     "data": {
      "text/html": [
       "<div>\n",
       "<style scoped>\n",
       "    .dataframe tbody tr th:only-of-type {\n",
       "        vertical-align: middle;\n",
       "    }\n",
       "\n",
       "    .dataframe tbody tr th {\n",
       "        vertical-align: top;\n",
       "    }\n",
       "\n",
       "    .dataframe thead th {\n",
       "        text-align: right;\n",
       "    }\n",
       "</style>\n",
       "<table border=\"1\" class=\"dataframe\">\n",
       "  <thead>\n",
       "    <tr style=\"text-align: right;\">\n",
       "      <th></th>\n",
       "      <th>variable</th>\n",
       "      <th>coefficient</th>\n",
       "    </tr>\n",
       "  </thead>\n",
       "  <tbody>\n",
       "    <tr>\n",
       "      <th>2</th>\n",
       "      <td>REPORT_LAG</td>\n",
       "      <td>0.414740</td>\n",
       "    </tr>\n",
       "    <tr>\n",
       "      <th>1</th>\n",
       "      <td>CLAIMANT_AGE</td>\n",
       "      <td>-0.371836</td>\n",
       "    </tr>\n",
       "    <tr>\n",
       "      <th>0</th>\n",
       "      <td>intercept</td>\n",
       "      <td>-0.287520</td>\n",
       "    </tr>\n",
       "    <tr>\n",
       "      <th>468</th>\n",
       "      <td>fractur</td>\n",
       "      <td>0.196792</td>\n",
       "    </tr>\n",
       "    <tr>\n",
       "      <th>1025</th>\n",
       "      <td>tenant</td>\n",
       "      <td>0.176965</td>\n",
       "    </tr>\n",
       "    <tr>\n",
       "      <th>703</th>\n",
       "      <td>nan</td>\n",
       "      <td>-0.157180</td>\n",
       "    </tr>\n",
       "    <tr>\n",
       "      <th>49</th>\n",
       "      <td>CLAIMANT_GENDER_U</td>\n",
       "      <td>-0.152667</td>\n",
       "    </tr>\n",
       "    <tr>\n",
       "      <th>561</th>\n",
       "      <td>injuri</td>\n",
       "      <td>0.138137</td>\n",
       "    </tr>\n",
       "    <tr>\n",
       "      <th>620</th>\n",
       "      <td>letter</td>\n",
       "      <td>0.135692</td>\n",
       "    </tr>\n",
       "    <tr>\n",
       "      <th>475</th>\n",
       "      <td>ga</td>\n",
       "      <td>0.121195</td>\n",
       "    </tr>\n",
       "  </tbody>\n",
       "</table>\n",
       "</div>"
      ],
      "text/plain": [
       "               variable  coefficient\n",
       "2            REPORT_LAG     0.414740\n",
       "1          CLAIMANT_AGE    -0.371836\n",
       "0             intercept    -0.287520\n",
       "468             fractur     0.196792\n",
       "1025             tenant     0.176965\n",
       "703                 nan    -0.157180\n",
       "49    CLAIMANT_GENDER_U    -0.152667\n",
       "561              injuri     0.138137\n",
       "620              letter     0.135692\n",
       "475                  ga     0.121195"
      ]
     },
     "execution_count": 119,
     "metadata": {},
     "output_type": "execute_result"
    }
   ],
   "source": [
    "elasticnet_summary.sort_values('abs(coefficient)', ascending=False).drop(columns='abs(coefficient)').head(10)"
   ]
  },
  {
   "cell_type": "code",
   "execution_count": 121,
   "metadata": {},
   "outputs": [],
   "source": [
    "# Look at Lasso Summary\n",
    "lasso_summary = reg_summary(lasso_best, dataCol)\n",
    "lasso_summary['abs(coefficient)'] = np.absolute(lasso_summary['coefficient'])"
   ]
  },
  {
   "cell_type": "code",
   "execution_count": 122,
   "metadata": {},
   "outputs": [
    {
     "data": {
      "text/html": [
       "<div>\n",
       "<style scoped>\n",
       "    .dataframe tbody tr th:only-of-type {\n",
       "        vertical-align: middle;\n",
       "    }\n",
       "\n",
       "    .dataframe tbody tr th {\n",
       "        vertical-align: top;\n",
       "    }\n",
       "\n",
       "    .dataframe thead th {\n",
       "        text-align: right;\n",
       "    }\n",
       "</style>\n",
       "<table border=\"1\" class=\"dataframe\">\n",
       "  <thead>\n",
       "    <tr style=\"text-align: right;\">\n",
       "      <th></th>\n",
       "      <th>variable</th>\n",
       "      <th>coefficient</th>\n",
       "    </tr>\n",
       "  </thead>\n",
       "  <tbody>\n",
       "    <tr>\n",
       "      <th>513</th>\n",
       "      <td>hazard</td>\n",
       "      <td>2.849518</td>\n",
       "    </tr>\n",
       "    <tr>\n",
       "      <th>41</th>\n",
       "      <td>CAUSE_OF_LOSS_Wrongful Termination</td>\n",
       "      <td>-1.657041</td>\n",
       "    </tr>\n",
       "    <tr>\n",
       "      <th>8</th>\n",
       "      <td>CAUSE_OF_LOSS_ADA</td>\n",
       "      <td>-1.408325</td>\n",
       "    </tr>\n",
       "    <tr>\n",
       "      <th>496</th>\n",
       "      <td>guest</td>\n",
       "      <td>-1.252952</td>\n",
       "    </tr>\n",
       "    <tr>\n",
       "      <th>654</th>\n",
       "      <td>make</td>\n",
       "      <td>-1.162219</td>\n",
       "    </tr>\n",
       "    <tr>\n",
       "      <th>245</th>\n",
       "      <td>citi</td>\n",
       "      <td>1.066930</td>\n",
       "    </tr>\n",
       "    <tr>\n",
       "      <th>499</th>\n",
       "      <td>habit</td>\n",
       "      <td>-1.028287</td>\n",
       "    </tr>\n",
       "    <tr>\n",
       "      <th>204</th>\n",
       "      <td>cake</td>\n",
       "      <td>1.020555</td>\n",
       "    </tr>\n",
       "    <tr>\n",
       "      <th>470</th>\n",
       "      <td>fresno</td>\n",
       "      <td>0.988283</td>\n",
       "    </tr>\n",
       "    <tr>\n",
       "      <th>166</th>\n",
       "      <td>blow</td>\n",
       "      <td>0.882864</td>\n",
       "    </tr>\n",
       "  </tbody>\n",
       "</table>\n",
       "</div>"
      ],
      "text/plain": [
       "                               variable  coefficient\n",
       "513                              hazard     2.849518\n",
       "41   CAUSE_OF_LOSS_Wrongful Termination    -1.657041\n",
       "8                     CAUSE_OF_LOSS_ADA    -1.408325\n",
       "496                               guest    -1.252952\n",
       "654                                make    -1.162219\n",
       "245                                citi     1.066930\n",
       "499                               habit    -1.028287\n",
       "204                                cake     1.020555\n",
       "470                              fresno     0.988283\n",
       "166                                blow     0.882864"
      ]
     },
     "execution_count": 122,
     "metadata": {},
     "output_type": "execute_result"
    }
   ],
   "source": [
    "lasso_summary.sort_values('abs(coefficient)', ascending=False).drop(columns='abs(coefficient)').head(10)"
   ]
  },
  {
   "cell_type": "code",
   "execution_count": 106,
   "metadata": {},
   "outputs": [
    {
     "data": {
      "text/plain": [
       "229"
      ]
     },
     "execution_count": 106,
     "metadata": {},
     "output_type": "execute_result"
    }
   ],
   "source": [
    "# Find out significant vairables after lasso filtering\n",
    "(lasso_summary['coefficient']!=0).sum()"
   ]
  },
  {
   "cell_type": "markdown",
   "metadata": {},
   "source": [
    "# Variable Importance"
   ]
  },
  {
   "cell_type": "code",
   "execution_count": 123,
   "metadata": {},
   "outputs": [],
   "source": [
    "# Compute variable importance\n",
    "var_imp_result = var_imp(rf_best, trainData, testData, dataCol)\n",
    "var_imp_result['abs(varImp)'] = np.absolute(var_imp_result['varImp'])"
   ]
  },
  {
   "cell_type": "code",
   "execution_count": 124,
   "metadata": {},
   "outputs": [
    {
     "data": {
      "text/html": [
       "<div>\n",
       "<style scoped>\n",
       "    .dataframe tbody tr th:only-of-type {\n",
       "        vertical-align: middle;\n",
       "    }\n",
       "\n",
       "    .dataframe tbody tr th {\n",
       "        vertical-align: top;\n",
       "    }\n",
       "\n",
       "    .dataframe thead th {\n",
       "        text-align: right;\n",
       "    }\n",
       "</style>\n",
       "<table border=\"1\" class=\"dataframe\">\n",
       "  <thead>\n",
       "    <tr style=\"text-align: right;\">\n",
       "      <th></th>\n",
       "      <th>var</th>\n",
       "      <th>varImp</th>\n",
       "    </tr>\n",
       "  </thead>\n",
       "  <tbody>\n",
       "    <tr>\n",
       "      <th>0</th>\n",
       "      <td>CLAIMANT_AGE</td>\n",
       "      <td>0.333991</td>\n",
       "    </tr>\n",
       "    <tr>\n",
       "      <th>2</th>\n",
       "      <td>UNIT_CREATION_LAG</td>\n",
       "      <td>0.107947</td>\n",
       "    </tr>\n",
       "    <tr>\n",
       "      <th>1</th>\n",
       "      <td>REPORT_LAG</td>\n",
       "      <td>0.101365</td>\n",
       "    </tr>\n",
       "    <tr>\n",
       "      <th>467</th>\n",
       "      <td>fractur</td>\n",
       "      <td>0.070900</td>\n",
       "    </tr>\n",
       "    <tr>\n",
       "      <th>498</th>\n",
       "      <td>habit</td>\n",
       "      <td>0.060669</td>\n",
       "    </tr>\n",
       "    <tr>\n",
       "      <th>88</th>\n",
       "      <td>agent</td>\n",
       "      <td>0.020445</td>\n",
       "    </tr>\n",
       "    <tr>\n",
       "      <th>244</th>\n",
       "      <td>citi</td>\n",
       "      <td>0.018997</td>\n",
       "    </tr>\n",
       "    <tr>\n",
       "      <th>573</th>\n",
       "      <td>involv</td>\n",
       "      <td>0.015844</td>\n",
       "    </tr>\n",
       "    <tr>\n",
       "      <th>469</th>\n",
       "      <td>fresno</td>\n",
       "      <td>0.015444</td>\n",
       "    </tr>\n",
       "    <tr>\n",
       "      <th>48</th>\n",
       "      <td>CLAIMANT_GENDER_U</td>\n",
       "      <td>0.014618</td>\n",
       "    </tr>\n",
       "  </tbody>\n",
       "</table>\n",
       "</div>"
      ],
      "text/plain": [
       "                   var    varImp\n",
       "0         CLAIMANT_AGE  0.333991\n",
       "2    UNIT_CREATION_LAG  0.107947\n",
       "1           REPORT_LAG  0.101365\n",
       "467            fractur  0.070900\n",
       "498              habit  0.060669\n",
       "88               agent  0.020445\n",
       "244               citi  0.018997\n",
       "573             involv  0.015844\n",
       "469             fresno  0.015444\n",
       "48   CLAIMANT_GENDER_U  0.014618"
      ]
     },
     "execution_count": 124,
     "metadata": {},
     "output_type": "execute_result"
    }
   ],
   "source": [
    "var_imp_result.sort_values('abs(varImp)', ascending=False).drop(columns='abs(varImp)').head(10)"
   ]
  },
  {
   "cell_type": "code",
   "execution_count": 101,
   "metadata": {},
   "outputs": [
    {
     "data": {
      "image/png": "[encoded data removed]",
      "text/plain": [
       "<Figure size 600x400 with 1 Axes>"
      ]
     },
     "metadata": {
      "needs_background": "light"
     },
     "output_type": "display_data"
    }
   ],
   "source": [
    "# Plot Variable Importance\n",
    "var_imp_plot(var_imp_result)"
   ]
  },
  {
   "cell_type": "code",
   "execution_count": null,
   "metadata": {},
   "outputs": [],
   "source": []
  }
 ],
 "metadata": {
  "kernelspec": {
   "display_name": "Python 3",
   "language": "python",
   "name": "python3"
  },
  "language_info": {
   "codemirror_mode": {
    "name": "ipython",
    "version": 3
   },
   "file_extension": ".py",
   "mimetype": "text/x-python",
   "name": "python",
   "nbconvert_exporter": "python",
   "pygments_lexer": "ipython3",
   "version": "3.7.1"
  }
 },
 "nbformat": 4,
 "nbformat_minor": 2
}
