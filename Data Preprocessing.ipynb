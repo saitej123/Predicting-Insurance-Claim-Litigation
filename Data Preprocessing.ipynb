{
 "cells": [
  {
   "cell_type": "code",
   "execution_count": 1,
   "metadata": {},
   "outputs": [],
   "source": [
    "%run \"Pycode/data_preprocessing.py\"\n",
    "%run \"Pycode/text_preprocessing.py\""
   ]
  },
  {
   "cell_type": "code",
   "execution_count": 2,
   "metadata": {},
   "outputs": [],
   "source": [
    "df = load_data(data_path='data/raw-data')\n",
    "df = data_preprocessing(df)"
   ]
  },
  {
   "cell_type": "code",
   "execution_count": 3,
   "metadata": {},
   "outputs": [],
   "source": [
    "key = ['UNIT_NUMBER','CLAIM_NUMBER','RANDOM_NUMBER']\n",
    "label = ['TARGET', 'LITIGATION']\n",
    "text = ['LOSS_DESCRIPTION','INJURY_DESCRIPTION']\n",
    "quan = ['CLAIMANT_AGE', 'REPORT_LAG', 'UNIT_CREATION_LAG']\n",
    "cat = ['INSURANCE_GROUP_IND', 'CAUSE_OF_LOSS', 'CLAIM_LOSS_TYPE', \\\n",
    "       'CLAIMANT_GENDER', 'POLICY_DESCRIPTION_GROUPED', 'IS_SAME_STATE']"
   ]
  },
  {
   "cell_type": "code",
   "execution_count": 4,
   "metadata": {},
   "outputs": [],
   "source": [
    "quan_only = df[key + label + quan + cat]\n",
    "text_only = df[key + label + text]\n",
    "text_only = text_preprocessing(text_only)\n",
    "combined = quan_only.merge(text_only, on = key + label)"
   ]
  },
  {
   "cell_type": "code",
   "execution_count": 5,
   "metadata": {},
   "outputs": [],
   "source": [
    "quan_only.to_csv('data/clean-data/quan_only.csv',index=False)\n",
    "text_only.to_csv('data/clean-data/text_only.csv',index=False)\n",
    "combined.to_csv('data/clean-data/combined.csv',index=False)"
   ]
  },
  {
   "cell_type": "code",
   "execution_count": null,
   "metadata": {},
   "outputs": [],
   "source": []
  }
 ],
 "metadata": {
  "kernelspec": {
   "display_name": "Python 3",
   "language": "python",
   "name": "python3"
  },
  "language_info": {
   "codemirror_mode": {
    "name": "ipython",
    "version": 3
   },
   "file_extension": ".py",
   "mimetype": "text/x-python",
   "name": "python",
   "nbconvert_exporter": "python",
   "pygments_lexer": "ipython3",
   "version": "3.7.1"
  }
 },
 "nbformat": 4,
 "nbformat_minor": 2
}
